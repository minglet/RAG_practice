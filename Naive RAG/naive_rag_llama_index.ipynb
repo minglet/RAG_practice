{
 "cells": [
  {
   "cell_type": "markdown",
   "metadata": {},
   "source": [
    "### Installation"
   ]
  },
  {
   "cell_type": "code",
   "execution_count": null,
   "metadata": {},
   "outputs": [
    {
     "name": "stdout",
     "output_type": "stream",
     "text": [
      "Collecting llama-index\n",
      "  Downloading llama_index-0.11.22-py3-none-any.whl.metadata (11 kB)\n",
      "Collecting llama-index-agent-openai<0.4.0,>=0.3.4 (from llama-index)\n",
      "  Using cached llama_index_agent_openai-0.3.4-py3-none-any.whl.metadata (728 bytes)\n",
      "Collecting llama-index-cli<0.4.0,>=0.3.1 (from llama-index)\n",
      "  Using cached llama_index_cli-0.3.1-py3-none-any.whl.metadata (1.5 kB)\n",
      "Collecting llama-index-core<0.12.0,>=0.11.22 (from llama-index)\n",
      "  Downloading llama_index_core-0.11.22-py3-none-any.whl.metadata (2.4 kB)\n",
      "Collecting llama-index-embeddings-openai<0.3.0,>=0.2.4 (from llama-index)\n",
      "  Using cached llama_index_embeddings_openai-0.2.5-py3-none-any.whl.metadata (686 bytes)\n",
      "Collecting llama-index-indices-managed-llama-cloud>=0.3.0 (from llama-index)\n",
      "  Using cached llama_index_indices_managed_llama_cloud-0.4.0-py3-none-any.whl.metadata (3.8 kB)\n",
      "Collecting llama-index-legacy<0.10.0,>=0.9.48 (from llama-index)\n",
      "  Downloading llama_index_legacy-0.9.48.post4-py3-none-any.whl.metadata (8.5 kB)\n",
      "Collecting llama-index-llms-openai<0.3.0,>=0.2.10 (from llama-index)\n",
      "  Using cached llama_index_llms_openai-0.2.16-py3-none-any.whl.metadata (3.3 kB)\n",
      "Collecting llama-index-multi-modal-llms-openai<0.3.0,>=0.2.0 (from llama-index)\n",
      "  Using cached llama_index_multi_modal_llms_openai-0.2.3-py3-none-any.whl.metadata (729 bytes)\n",
      "Collecting llama-index-program-openai<0.3.0,>=0.2.0 (from llama-index)\n",
      "  Using cached llama_index_program_openai-0.2.0-py3-none-any.whl.metadata (766 bytes)\n",
      "Collecting llama-index-question-gen-openai<0.3.0,>=0.2.0 (from llama-index)\n",
      "  Using cached llama_index_question_gen_openai-0.2.0-py3-none-any.whl.metadata (785 bytes)\n",
      "Collecting llama-index-readers-file<0.3.0,>=0.2.0 (from llama-index)\n",
      "  Using cached llama_index_readers_file-0.2.2-py3-none-any.whl.metadata (5.4 kB)\n",
      "Collecting llama-index-readers-llama-parse>=0.3.0 (from llama-index)\n",
      "  Using cached llama_index_readers_llama_parse-0.3.0-py3-none-any.whl.metadata (3.5 kB)\n",
      "Requirement already satisfied: nltk>3.8.1 in /root/anaconda3/envs/rag_poc/lib/python3.10/site-packages (from llama-index) (3.9.1)\n",
      "Requirement already satisfied: openai>=1.14.0 in /root/anaconda3/envs/rag_poc/lib/python3.10/site-packages (from llama-index-agent-openai<0.4.0,>=0.3.4->llama-index) (1.51.2)\n",
      "Requirement already satisfied: PyYAML>=6.0.1 in /root/anaconda3/envs/rag_poc/lib/python3.10/site-packages (from llama-index-core<0.12.0,>=0.11.22->llama-index) (6.0.2)\n",
      "Requirement already satisfied: SQLAlchemy>=1.4.49 in /root/anaconda3/envs/rag_poc/lib/python3.10/site-packages (from SQLAlchemy[asyncio]>=1.4.49->llama-index-core<0.12.0,>=0.11.22->llama-index) (2.0.35)\n",
      "Requirement already satisfied: aiohttp<4.0.0,>=3.8.6 in /root/anaconda3/envs/rag_poc/lib/python3.10/site-packages (from llama-index-core<0.12.0,>=0.11.22->llama-index) (3.10.10)\n",
      "Requirement already satisfied: dataclasses-json in /root/anaconda3/envs/rag_poc/lib/python3.10/site-packages (from llama-index-core<0.12.0,>=0.11.22->llama-index) (0.6.7)\n",
      "Requirement already satisfied: deprecated>=1.2.9.3 in /root/anaconda3/envs/rag_poc/lib/python3.10/site-packages (from llama-index-core<0.12.0,>=0.11.22->llama-index) (1.2.14)\n",
      "Collecting dirtyjson<2.0.0,>=1.0.8 (from llama-index-core<0.12.0,>=0.11.22->llama-index)\n",
      "  Using cached dirtyjson-1.0.8-py3-none-any.whl.metadata (11 kB)\n",
      "Requirement already satisfied: fsspec>=2023.5.0 in /root/anaconda3/envs/rag_poc/lib/python3.10/site-packages (from llama-index-core<0.12.0,>=0.11.22->llama-index) (2024.6.1)\n",
      "Requirement already satisfied: httpx in /root/anaconda3/envs/rag_poc/lib/python3.10/site-packages (from llama-index-core<0.12.0,>=0.11.22->llama-index) (0.27.2)\n",
      "Requirement already satisfied: nest-asyncio<2.0.0,>=1.5.8 in /root/anaconda3/envs/rag_poc/lib/python3.10/site-packages (from llama-index-core<0.12.0,>=0.11.22->llama-index) (1.6.0)\n",
      "Requirement already satisfied: networkx>=3.0 in /root/anaconda3/envs/rag_poc/lib/python3.10/site-packages (from llama-index-core<0.12.0,>=0.11.22->llama-index) (3.4.1)\n",
      "Requirement already satisfied: numpy<2.0.0 in /root/anaconda3/envs/rag_poc/lib/python3.10/site-packages (from llama-index-core<0.12.0,>=0.11.22->llama-index) (1.26.4)\n",
      "Requirement already satisfied: pillow>=9.0.0 in /root/anaconda3/envs/rag_poc/lib/python3.10/site-packages (from llama-index-core<0.12.0,>=0.11.22->llama-index) (11.0.0)\n",
      "Requirement already satisfied: pydantic<3.0.0,>=2.7.0 in /root/anaconda3/envs/rag_poc/lib/python3.10/site-packages (from llama-index-core<0.12.0,>=0.11.22->llama-index) (2.9.2)\n",
      "Requirement already satisfied: requests>=2.31.0 in /root/anaconda3/envs/rag_poc/lib/python3.10/site-packages (from llama-index-core<0.12.0,>=0.11.22->llama-index) (2.32.3)\n",
      "Requirement already satisfied: tenacity!=8.4.0,<9.0.0,>=8.2.0 in /root/anaconda3/envs/rag_poc/lib/python3.10/site-packages (from llama-index-core<0.12.0,>=0.11.22->llama-index) (8.5.0)\n",
      "Requirement already satisfied: tiktoken>=0.3.3 in /root/anaconda3/envs/rag_poc/lib/python3.10/site-packages (from llama-index-core<0.12.0,>=0.11.22->llama-index) (0.8.0)\n",
      "Requirement already satisfied: tqdm<5.0.0,>=4.66.1 in /root/anaconda3/envs/rag_poc/lib/python3.10/site-packages (from llama-index-core<0.12.0,>=0.11.22->llama-index) (4.66.5)\n",
      "Requirement already satisfied: typing-extensions>=4.5.0 in /root/anaconda3/envs/rag_poc/lib/python3.10/site-packages (from llama-index-core<0.12.0,>=0.11.22->llama-index) (4.12.2)\n",
      "Requirement already satisfied: typing-inspect>=0.8.0 in /root/anaconda3/envs/rag_poc/lib/python3.10/site-packages (from llama-index-core<0.12.0,>=0.11.22->llama-index) (0.9.0)\n",
      "Requirement already satisfied: wrapt in /root/anaconda3/envs/rag_poc/lib/python3.10/site-packages (from llama-index-core<0.12.0,>=0.11.22->llama-index) (1.16.0)\n",
      "Collecting llama-cloud>=0.0.11 (from llama-index-indices-managed-llama-cloud>=0.3.0->llama-index)\n",
      "  Using cached llama_cloud-0.1.4-py3-none-any.whl.metadata (814 bytes)\n",
      "Requirement already satisfied: pandas in /root/anaconda3/envs/rag_poc/lib/python3.10/site-packages (from llama-index-legacy<0.10.0,>=0.9.48->llama-index) (2.2.3)\n",
      "Requirement already satisfied: beautifulsoup4<5.0.0,>=4.12.3 in /root/anaconda3/envs/rag_poc/lib/python3.10/site-packages (from llama-index-readers-file<0.3.0,>=0.2.0->llama-index) (4.12.3)\n",
      "Collecting pypdf<5.0.0,>=4.0.1 (from llama-index-readers-file<0.3.0,>=0.2.0->llama-index)\n",
      "  Using cached pypdf-4.3.1-py3-none-any.whl.metadata (7.4 kB)\n",
      "Collecting striprtf<0.0.27,>=0.0.26 (from llama-index-readers-file<0.3.0,>=0.2.0->llama-index)\n",
      "  Using cached striprtf-0.0.26-py3-none-any.whl.metadata (2.1 kB)\n",
      "Collecting llama-parse>=0.5.0 (from llama-index-readers-llama-parse>=0.3.0->llama-index)\n",
      "  Downloading llama_parse-0.5.13-py3-none-any.whl.metadata (6.9 kB)\n",
      "Requirement already satisfied: click in /root/anaconda3/envs/rag_poc/lib/python3.10/site-packages (from nltk>3.8.1->llama-index) (8.1.7)\n",
      "Requirement already satisfied: joblib in /root/anaconda3/envs/rag_poc/lib/python3.10/site-packages (from nltk>3.8.1->llama-index) (1.4.2)\n",
      "Requirement already satisfied: regex>=2021.8.3 in /root/anaconda3/envs/rag_poc/lib/python3.10/site-packages (from nltk>3.8.1->llama-index) (2024.9.11)\n",
      "Requirement already satisfied: aiohappyeyeballs>=2.3.0 in /root/anaconda3/envs/rag_poc/lib/python3.10/site-packages (from aiohttp<4.0.0,>=3.8.6->llama-index-core<0.12.0,>=0.11.22->llama-index) (2.4.3)\n",
      "Requirement already satisfied: aiosignal>=1.1.2 in /root/anaconda3/envs/rag_poc/lib/python3.10/site-packages (from aiohttp<4.0.0,>=3.8.6->llama-index-core<0.12.0,>=0.11.22->llama-index) (1.3.1)\n",
      "Requirement already satisfied: attrs>=17.3.0 in /root/anaconda3/envs/rag_poc/lib/python3.10/site-packages (from aiohttp<4.0.0,>=3.8.6->llama-index-core<0.12.0,>=0.11.22->llama-index) (24.2.0)\n",
      "Requirement already satisfied: frozenlist>=1.1.1 in /root/anaconda3/envs/rag_poc/lib/python3.10/site-packages (from aiohttp<4.0.0,>=3.8.6->llama-index-core<0.12.0,>=0.11.22->llama-index) (1.4.1)\n",
      "Requirement already satisfied: multidict<7.0,>=4.5 in /root/anaconda3/envs/rag_poc/lib/python3.10/site-packages (from aiohttp<4.0.0,>=3.8.6->llama-index-core<0.12.0,>=0.11.22->llama-index) (6.1.0)\n",
      "Requirement already satisfied: yarl<2.0,>=1.12.0 in /root/anaconda3/envs/rag_poc/lib/python3.10/site-packages (from aiohttp<4.0.0,>=3.8.6->llama-index-core<0.12.0,>=0.11.22->llama-index) (1.15.0)\n",
      "Requirement already satisfied: async-timeout<5.0,>=4.0 in /root/anaconda3/envs/rag_poc/lib/python3.10/site-packages (from aiohttp<4.0.0,>=3.8.6->llama-index-core<0.12.0,>=0.11.22->llama-index) (4.0.3)\n",
      "Requirement already satisfied: soupsieve>1.2 in /root/anaconda3/envs/rag_poc/lib/python3.10/site-packages (from beautifulsoup4<5.0.0,>=4.12.3->llama-index-readers-file<0.3.0,>=0.2.0->llama-index) (2.6)\n",
      "Requirement already satisfied: anyio in /root/anaconda3/envs/rag_poc/lib/python3.10/site-packages (from httpx->llama-index-core<0.12.0,>=0.11.22->llama-index) (4.6.0)\n",
      "Requirement already satisfied: certifi in /root/anaconda3/envs/rag_poc/lib/python3.10/site-packages (from httpx->llama-index-core<0.12.0,>=0.11.22->llama-index) (2024.8.30)\n",
      "Requirement already satisfied: httpcore==1.* in /root/anaconda3/envs/rag_poc/lib/python3.10/site-packages (from httpx->llama-index-core<0.12.0,>=0.11.22->llama-index) (1.0.6)\n",
      "Requirement already satisfied: idna in /root/anaconda3/envs/rag_poc/lib/python3.10/site-packages (from httpx->llama-index-core<0.12.0,>=0.11.22->llama-index) (3.10)\n",
      "Requirement already satisfied: sniffio in /root/anaconda3/envs/rag_poc/lib/python3.10/site-packages (from httpx->llama-index-core<0.12.0,>=0.11.22->llama-index) (1.3.1)\n",
      "Requirement already satisfied: h11<0.15,>=0.13 in /root/anaconda3/envs/rag_poc/lib/python3.10/site-packages (from httpcore==1.*->httpx->llama-index-core<0.12.0,>=0.11.22->llama-index) (0.14.0)\n",
      "Requirement already satisfied: distro<2,>=1.7.0 in /root/anaconda3/envs/rag_poc/lib/python3.10/site-packages (from openai>=1.14.0->llama-index-agent-openai<0.4.0,>=0.3.4->llama-index) (1.9.0)\n",
      "Requirement already satisfied: jiter<1,>=0.4.0 in /root/anaconda3/envs/rag_poc/lib/python3.10/site-packages (from openai>=1.14.0->llama-index-agent-openai<0.4.0,>=0.3.4->llama-index) (0.6.1)\n",
      "Requirement already satisfied: annotated-types>=0.6.0 in /root/anaconda3/envs/rag_poc/lib/python3.10/site-packages (from pydantic<3.0.0,>=2.7.0->llama-index-core<0.12.0,>=0.11.22->llama-index) (0.7.0)\n",
      "Requirement already satisfied: pydantic-core==2.23.4 in /root/anaconda3/envs/rag_poc/lib/python3.10/site-packages (from pydantic<3.0.0,>=2.7.0->llama-index-core<0.12.0,>=0.11.22->llama-index) (2.23.4)\n",
      "Requirement already satisfied: charset-normalizer<4,>=2 in /root/anaconda3/envs/rag_poc/lib/python3.10/site-packages (from requests>=2.31.0->llama-index-core<0.12.0,>=0.11.22->llama-index) (3.4.0)\n",
      "Requirement already satisfied: urllib3<3,>=1.21.1 in /root/anaconda3/envs/rag_poc/lib/python3.10/site-packages (from requests>=2.31.0->llama-index-core<0.12.0,>=0.11.22->llama-index) (2.2.3)\n",
      "Requirement already satisfied: greenlet!=0.4.17 in /root/anaconda3/envs/rag_poc/lib/python3.10/site-packages (from SQLAlchemy>=1.4.49->SQLAlchemy[asyncio]>=1.4.49->llama-index-core<0.12.0,>=0.11.22->llama-index) (3.1.1)\n",
      "Requirement already satisfied: mypy-extensions>=0.3.0 in /root/anaconda3/envs/rag_poc/lib/python3.10/site-packages (from typing-inspect>=0.8.0->llama-index-core<0.12.0,>=0.11.22->llama-index) (1.0.0)\n",
      "Requirement already satisfied: marshmallow<4.0.0,>=3.18.0 in /root/anaconda3/envs/rag_poc/lib/python3.10/site-packages (from dataclasses-json->llama-index-core<0.12.0,>=0.11.22->llama-index) (3.22.0)\n",
      "Requirement already satisfied: python-dateutil>=2.8.2 in /root/anaconda3/envs/rag_poc/lib/python3.10/site-packages (from pandas->llama-index-legacy<0.10.0,>=0.9.48->llama-index) (2.9.0.post0)\n",
      "Requirement already satisfied: pytz>=2020.1 in /root/anaconda3/envs/rag_poc/lib/python3.10/site-packages (from pandas->llama-index-legacy<0.10.0,>=0.9.48->llama-index) (2024.2)\n",
      "Requirement already satisfied: tzdata>=2022.7 in /root/anaconda3/envs/rag_poc/lib/python3.10/site-packages (from pandas->llama-index-legacy<0.10.0,>=0.9.48->llama-index) (2024.2)\n",
      "Requirement already satisfied: exceptiongroup>=1.0.2 in /root/anaconda3/envs/rag_poc/lib/python3.10/site-packages (from anyio->httpx->llama-index-core<0.12.0,>=0.11.22->llama-index) (1.2.2)\n",
      "Requirement already satisfied: packaging>=17.0 in /root/anaconda3/envs/rag_poc/lib/python3.10/site-packages (from marshmallow<4.0.0,>=3.18.0->dataclasses-json->llama-index-core<0.12.0,>=0.11.22->llama-index) (24.1)\n",
      "Requirement already satisfied: six>=1.5 in /root/anaconda3/envs/rag_poc/lib/python3.10/site-packages (from python-dateutil>=2.8.2->pandas->llama-index-legacy<0.10.0,>=0.9.48->llama-index) (1.16.0)\n",
      "Requirement already satisfied: propcache>=0.2.0 in /root/anaconda3/envs/rag_poc/lib/python3.10/site-packages (from yarl<2.0,>=1.12.0->aiohttp<4.0.0,>=3.8.6->llama-index-core<0.12.0,>=0.11.22->llama-index) (0.2.0)\n",
      "Downloading llama_index-0.11.22-py3-none-any.whl (6.8 kB)\n",
      "Using cached llama_index_agent_openai-0.3.4-py3-none-any.whl (13 kB)\n",
      "Using cached llama_index_cli-0.3.1-py3-none-any.whl (27 kB)\n",
      "Downloading llama_index_core-0.11.22-py3-none-any.whl (1.6 MB)\n",
      "\u001b[2K   \u001b[90m━━━━━━━━━━━━━━━━━━━━━━━━━━━━━━━━━━━━━━━━\u001b[0m \u001b[32m1.6/1.6 MB\u001b[0m \u001b[31m57.0 MB/s\u001b[0m eta \u001b[36m0:00:00\u001b[0m\n",
      "\u001b[?25hUsing cached llama_index_embeddings_openai-0.2.5-py3-none-any.whl (6.1 kB)\n",
      "Using cached llama_index_indices_managed_llama_cloud-0.4.0-py3-none-any.whl (10 kB)\n",
      "Downloading llama_index_legacy-0.9.48.post4-py3-none-any.whl (1.2 MB)\n",
      "\u001b[2K   \u001b[90m━━━━━━━━━━━━━━━━━━━━━━━━━━━━━━━━━━━━━━━━\u001b[0m \u001b[32m1.2/1.2 MB\u001b[0m \u001b[31m1.1 MB/s\u001b[0m eta \u001b[36m0:00:00\u001b[0meta \u001b[36m0:00:01\u001b[0m\n",
      "\u001b[?25hUsing cached llama_index_llms_openai-0.2.16-py3-none-any.whl (13 kB)\n",
      "Using cached llama_index_multi_modal_llms_openai-0.2.3-py3-none-any.whl (5.9 kB)\n",
      "Using cached llama_index_program_openai-0.2.0-py3-none-any.whl (5.3 kB)\n",
      "Using cached llama_index_question_gen_openai-0.2.0-py3-none-any.whl (2.9 kB)\n",
      "Using cached llama_index_readers_file-0.2.2-py3-none-any.whl (38 kB)\n",
      "Using cached llama_index_readers_llama_parse-0.3.0-py3-none-any.whl (2.5 kB)\n",
      "Using cached dirtyjson-1.0.8-py3-none-any.whl (25 kB)\n",
      "Using cached llama_cloud-0.1.4-py3-none-any.whl (176 kB)\n",
      "Downloading llama_parse-0.5.13-py3-none-any.whl (13 kB)\n",
      "Using cached pypdf-4.3.1-py3-none-any.whl (295 kB)\n",
      "Using cached striprtf-0.0.26-py3-none-any.whl (6.9 kB)\n",
      "Installing collected packages: striprtf, dirtyjson, pypdf, llama-cloud, llama-index-legacy, llama-index-core, llama-parse, llama-index-readers-file, llama-index-llms-openai, llama-index-indices-managed-llama-cloud, llama-index-embeddings-openai, llama-index-readers-llama-parse, llama-index-multi-modal-llms-openai, llama-index-cli, llama-index-agent-openai, llama-index-program-openai, llama-index-question-gen-openai, llama-index\n",
      "Successfully installed dirtyjson-1.0.8 llama-cloud-0.1.4 llama-index-0.11.22 llama-index-agent-openai-0.3.4 llama-index-cli-0.3.1 llama-index-core-0.11.22 llama-index-embeddings-openai-0.2.5 llama-index-indices-managed-llama-cloud-0.4.0 llama-index-legacy-0.9.48.post4 llama-index-llms-openai-0.2.16 llama-index-multi-modal-llms-openai-0.2.3 llama-index-program-openai-0.2.0 llama-index-question-gen-openai-0.2.0 llama-index-readers-file-0.2.2 llama-index-readers-llama-parse-0.3.0 llama-parse-0.5.13 pypdf-4.3.1 striprtf-0.0.26\n",
      "\u001b[33mWARNING: Running pip as the 'root' user can result in broken permissions and conflicting behaviour with the system package manager, possibly rendering your system unusable.It is recommended to use a virtual environment instead: https://pip.pypa.io/warnings/venv. Use the --root-user-action option if you know what you are doing and want to suppress this warning.\u001b[0m\u001b[33m\n",
      "\u001b[0mCollecting llama-index-vector-stores-chroma\n",
      "  Downloading llama_index_vector_stores_chroma-0.3.0-py3-none-any.whl.metadata (698 bytes)\n",
      "Collecting chromadb>=0.5.17 (from llama-index-vector-stores-chroma)\n",
      "  Downloading chromadb-0.5.18-py3-none-any.whl.metadata (6.8 kB)\n",
      "Requirement already satisfied: llama-index-core<0.12.0,>=0.11.0 in /root/anaconda3/envs/rag_poc/lib/python3.10/site-packages (from llama-index-vector-stores-chroma) (0.11.22)\n",
      "Requirement already satisfied: build>=1.0.3 in /root/anaconda3/envs/rag_poc/lib/python3.10/site-packages (from chromadb>=0.5.17->llama-index-vector-stores-chroma) (1.2.2.post1)\n",
      "Requirement already satisfied: pydantic>=1.9 in /root/anaconda3/envs/rag_poc/lib/python3.10/site-packages (from chromadb>=0.5.17->llama-index-vector-stores-chroma) (2.9.2)\n",
      "Requirement already satisfied: chroma-hnswlib==0.7.6 in /root/anaconda3/envs/rag_poc/lib/python3.10/site-packages (from chromadb>=0.5.17->llama-index-vector-stores-chroma) (0.7.6)\n",
      "Requirement already satisfied: fastapi>=0.95.2 in /root/anaconda3/envs/rag_poc/lib/python3.10/site-packages (from chromadb>=0.5.17->llama-index-vector-stores-chroma) (0.115.2)\n",
      "Requirement already satisfied: uvicorn>=0.18.3 in /root/anaconda3/envs/rag_poc/lib/python3.10/site-packages (from uvicorn[standard]>=0.18.3->chromadb>=0.5.17->llama-index-vector-stores-chroma) (0.32.0)\n",
      "Requirement already satisfied: numpy>=1.22.5 in /root/anaconda3/envs/rag_poc/lib/python3.10/site-packages (from chromadb>=0.5.17->llama-index-vector-stores-chroma) (1.26.4)\n",
      "Requirement already satisfied: posthog>=2.4.0 in /root/anaconda3/envs/rag_poc/lib/python3.10/site-packages (from chromadb>=0.5.17->llama-index-vector-stores-chroma) (3.7.0)\n",
      "Requirement already satisfied: typing-extensions>=4.5.0 in /root/anaconda3/envs/rag_poc/lib/python3.10/site-packages (from chromadb>=0.5.17->llama-index-vector-stores-chroma) (4.12.2)\n",
      "Requirement already satisfied: onnxruntime>=1.14.1 in /root/anaconda3/envs/rag_poc/lib/python3.10/site-packages (from chromadb>=0.5.17->llama-index-vector-stores-chroma) (1.19.2)\n",
      "Requirement already satisfied: opentelemetry-api>=1.2.0 in /root/anaconda3/envs/rag_poc/lib/python3.10/site-packages (from chromadb>=0.5.17->llama-index-vector-stores-chroma) (1.27.0)\n",
      "Requirement already satisfied: opentelemetry-exporter-otlp-proto-grpc>=1.2.0 in /root/anaconda3/envs/rag_poc/lib/python3.10/site-packages (from chromadb>=0.5.17->llama-index-vector-stores-chroma) (1.27.0)\n",
      "Requirement already satisfied: opentelemetry-instrumentation-fastapi>=0.41b0 in /root/anaconda3/envs/rag_poc/lib/python3.10/site-packages (from chromadb>=0.5.17->llama-index-vector-stores-chroma) (0.48b0)\n",
      "Requirement already satisfied: opentelemetry-sdk>=1.2.0 in /root/anaconda3/envs/rag_poc/lib/python3.10/site-packages (from chromadb>=0.5.17->llama-index-vector-stores-chroma) (1.27.0)\n",
      "Requirement already satisfied: tokenizers>=0.13.2 in /root/anaconda3/envs/rag_poc/lib/python3.10/site-packages (from chromadb>=0.5.17->llama-index-vector-stores-chroma) (0.20.1)\n",
      "Requirement already satisfied: pypika>=0.48.9 in /root/anaconda3/envs/rag_poc/lib/python3.10/site-packages (from chromadb>=0.5.17->llama-index-vector-stores-chroma) (0.48.9)\n",
      "Requirement already satisfied: tqdm>=4.65.0 in /root/anaconda3/envs/rag_poc/lib/python3.10/site-packages (from chromadb>=0.5.17->llama-index-vector-stores-chroma) (4.66.5)\n",
      "Requirement already satisfied: overrides>=7.3.1 in /root/anaconda3/envs/rag_poc/lib/python3.10/site-packages (from chromadb>=0.5.17->llama-index-vector-stores-chroma) (7.7.0)\n",
      "Requirement already satisfied: importlib-resources in /root/anaconda3/envs/rag_poc/lib/python3.10/site-packages (from chromadb>=0.5.17->llama-index-vector-stores-chroma) (6.4.5)\n",
      "Requirement already satisfied: grpcio>=1.58.0 in /root/anaconda3/envs/rag_poc/lib/python3.10/site-packages (from chromadb>=0.5.17->llama-index-vector-stores-chroma) (1.67.0)\n",
      "Requirement already satisfied: bcrypt>=4.0.1 in /root/anaconda3/envs/rag_poc/lib/python3.10/site-packages (from chromadb>=0.5.17->llama-index-vector-stores-chroma) (4.2.0)\n",
      "Requirement already satisfied: typer>=0.9.0 in /root/anaconda3/envs/rag_poc/lib/python3.10/site-packages (from chromadb>=0.5.17->llama-index-vector-stores-chroma) (0.12.5)\n",
      "Requirement already satisfied: kubernetes>=28.1.0 in /root/anaconda3/envs/rag_poc/lib/python3.10/site-packages (from chromadb>=0.5.17->llama-index-vector-stores-chroma) (31.0.0)\n",
      "Requirement already satisfied: tenacity>=8.2.3 in /root/anaconda3/envs/rag_poc/lib/python3.10/site-packages (from chromadb>=0.5.17->llama-index-vector-stores-chroma) (8.5.0)\n",
      "Requirement already satisfied: PyYAML>=6.0.0 in /root/anaconda3/envs/rag_poc/lib/python3.10/site-packages (from chromadb>=0.5.17->llama-index-vector-stores-chroma) (6.0.2)\n",
      "Requirement already satisfied: mmh3>=4.0.1 in /root/anaconda3/envs/rag_poc/lib/python3.10/site-packages (from chromadb>=0.5.17->llama-index-vector-stores-chroma) (5.0.1)\n",
      "Requirement already satisfied: orjson>=3.9.12 in /root/anaconda3/envs/rag_poc/lib/python3.10/site-packages (from chromadb>=0.5.17->llama-index-vector-stores-chroma) (3.10.7)\n",
      "Requirement already satisfied: httpx>=0.27.0 in /root/anaconda3/envs/rag_poc/lib/python3.10/site-packages (from chromadb>=0.5.17->llama-index-vector-stores-chroma) (0.27.2)\n",
      "Requirement already satisfied: rich>=10.11.0 in /root/anaconda3/envs/rag_poc/lib/python3.10/site-packages (from chromadb>=0.5.17->llama-index-vector-stores-chroma) (13.9.2)\n",
      "Requirement already satisfied: SQLAlchemy>=1.4.49 in /root/anaconda3/envs/rag_poc/lib/python3.10/site-packages (from SQLAlchemy[asyncio]>=1.4.49->llama-index-core<0.12.0,>=0.11.0->llama-index-vector-stores-chroma) (2.0.35)\n",
      "Requirement already satisfied: aiohttp<4.0.0,>=3.8.6 in /root/anaconda3/envs/rag_poc/lib/python3.10/site-packages (from llama-index-core<0.12.0,>=0.11.0->llama-index-vector-stores-chroma) (3.10.10)\n",
      "Requirement already satisfied: dataclasses-json in /root/anaconda3/envs/rag_poc/lib/python3.10/site-packages (from llama-index-core<0.12.0,>=0.11.0->llama-index-vector-stores-chroma) (0.6.7)\n",
      "Requirement already satisfied: deprecated>=1.2.9.3 in /root/anaconda3/envs/rag_poc/lib/python3.10/site-packages (from llama-index-core<0.12.0,>=0.11.0->llama-index-vector-stores-chroma) (1.2.14)\n",
      "Requirement already satisfied: dirtyjson<2.0.0,>=1.0.8 in /root/anaconda3/envs/rag_poc/lib/python3.10/site-packages (from llama-index-core<0.12.0,>=0.11.0->llama-index-vector-stores-chroma) (1.0.8)\n",
      "Requirement already satisfied: fsspec>=2023.5.0 in /root/anaconda3/envs/rag_poc/lib/python3.10/site-packages (from llama-index-core<0.12.0,>=0.11.0->llama-index-vector-stores-chroma) (2024.6.1)\n",
      "Requirement already satisfied: nest-asyncio<2.0.0,>=1.5.8 in /root/anaconda3/envs/rag_poc/lib/python3.10/site-packages (from llama-index-core<0.12.0,>=0.11.0->llama-index-vector-stores-chroma) (1.6.0)\n",
      "Requirement already satisfied: networkx>=3.0 in /root/anaconda3/envs/rag_poc/lib/python3.10/site-packages (from llama-index-core<0.12.0,>=0.11.0->llama-index-vector-stores-chroma) (3.4.1)\n",
      "Requirement already satisfied: nltk>3.8.1 in /root/anaconda3/envs/rag_poc/lib/python3.10/site-packages (from llama-index-core<0.12.0,>=0.11.0->llama-index-vector-stores-chroma) (3.9.1)\n",
      "Requirement already satisfied: pillow>=9.0.0 in /root/anaconda3/envs/rag_poc/lib/python3.10/site-packages (from llama-index-core<0.12.0,>=0.11.0->llama-index-vector-stores-chroma) (11.0.0)\n",
      "Requirement already satisfied: requests>=2.31.0 in /root/anaconda3/envs/rag_poc/lib/python3.10/site-packages (from llama-index-core<0.12.0,>=0.11.0->llama-index-vector-stores-chroma) (2.32.3)\n",
      "Requirement already satisfied: tiktoken>=0.3.3 in /root/anaconda3/envs/rag_poc/lib/python3.10/site-packages (from llama-index-core<0.12.0,>=0.11.0->llama-index-vector-stores-chroma) (0.8.0)\n",
      "Requirement already satisfied: typing-inspect>=0.8.0 in /root/anaconda3/envs/rag_poc/lib/python3.10/site-packages (from llama-index-core<0.12.0,>=0.11.0->llama-index-vector-stores-chroma) (0.9.0)\n",
      "Requirement already satisfied: wrapt in /root/anaconda3/envs/rag_poc/lib/python3.10/site-packages (from llama-index-core<0.12.0,>=0.11.0->llama-index-vector-stores-chroma) (1.16.0)\n",
      "Requirement already satisfied: aiohappyeyeballs>=2.3.0 in /root/anaconda3/envs/rag_poc/lib/python3.10/site-packages (from aiohttp<4.0.0,>=3.8.6->llama-index-core<0.12.0,>=0.11.0->llama-index-vector-stores-chroma) (2.4.3)\n",
      "Requirement already satisfied: aiosignal>=1.1.2 in /root/anaconda3/envs/rag_poc/lib/python3.10/site-packages (from aiohttp<4.0.0,>=3.8.6->llama-index-core<0.12.0,>=0.11.0->llama-index-vector-stores-chroma) (1.3.1)\n",
      "Requirement already satisfied: attrs>=17.3.0 in /root/anaconda3/envs/rag_poc/lib/python3.10/site-packages (from aiohttp<4.0.0,>=3.8.6->llama-index-core<0.12.0,>=0.11.0->llama-index-vector-stores-chroma) (24.2.0)\n",
      "Requirement already satisfied: frozenlist>=1.1.1 in /root/anaconda3/envs/rag_poc/lib/python3.10/site-packages (from aiohttp<4.0.0,>=3.8.6->llama-index-core<0.12.0,>=0.11.0->llama-index-vector-stores-chroma) (1.4.1)\n",
      "Requirement already satisfied: multidict<7.0,>=4.5 in /root/anaconda3/envs/rag_poc/lib/python3.10/site-packages (from aiohttp<4.0.0,>=3.8.6->llama-index-core<0.12.0,>=0.11.0->llama-index-vector-stores-chroma) (6.1.0)\n",
      "Requirement already satisfied: yarl<2.0,>=1.12.0 in /root/anaconda3/envs/rag_poc/lib/python3.10/site-packages (from aiohttp<4.0.0,>=3.8.6->llama-index-core<0.12.0,>=0.11.0->llama-index-vector-stores-chroma) (1.15.0)\n",
      "Requirement already satisfied: async-timeout<5.0,>=4.0 in /root/anaconda3/envs/rag_poc/lib/python3.10/site-packages (from aiohttp<4.0.0,>=3.8.6->llama-index-core<0.12.0,>=0.11.0->llama-index-vector-stores-chroma) (4.0.3)\n",
      "Requirement already satisfied: packaging>=19.1 in /root/anaconda3/envs/rag_poc/lib/python3.10/site-packages (from build>=1.0.3->chromadb>=0.5.17->llama-index-vector-stores-chroma) (24.1)\n",
      "Requirement already satisfied: pyproject_hooks in /root/anaconda3/envs/rag_poc/lib/python3.10/site-packages (from build>=1.0.3->chromadb>=0.5.17->llama-index-vector-stores-chroma) (1.2.0)\n",
      "Requirement already satisfied: tomli>=1.1.0 in /root/anaconda3/envs/rag_poc/lib/python3.10/site-packages (from build>=1.0.3->chromadb>=0.5.17->llama-index-vector-stores-chroma) (2.0.2)\n",
      "Requirement already satisfied: starlette<0.41.0,>=0.37.2 in /root/anaconda3/envs/rag_poc/lib/python3.10/site-packages (from fastapi>=0.95.2->chromadb>=0.5.17->llama-index-vector-stores-chroma) (0.40.0)\n",
      "Requirement already satisfied: anyio in /root/anaconda3/envs/rag_poc/lib/python3.10/site-packages (from httpx>=0.27.0->chromadb>=0.5.17->llama-index-vector-stores-chroma) (4.6.0)\n",
      "Requirement already satisfied: certifi in /root/anaconda3/envs/rag_poc/lib/python3.10/site-packages (from httpx>=0.27.0->chromadb>=0.5.17->llama-index-vector-stores-chroma) (2024.8.30)\n",
      "Requirement already satisfied: httpcore==1.* in /root/anaconda3/envs/rag_poc/lib/python3.10/site-packages (from httpx>=0.27.0->chromadb>=0.5.17->llama-index-vector-stores-chroma) (1.0.6)\n",
      "Requirement already satisfied: idna in /root/anaconda3/envs/rag_poc/lib/python3.10/site-packages (from httpx>=0.27.0->chromadb>=0.5.17->llama-index-vector-stores-chroma) (3.10)\n",
      "Requirement already satisfied: sniffio in /root/anaconda3/envs/rag_poc/lib/python3.10/site-packages (from httpx>=0.27.0->chromadb>=0.5.17->llama-index-vector-stores-chroma) (1.3.1)\n",
      "Requirement already satisfied: h11<0.15,>=0.13 in /root/anaconda3/envs/rag_poc/lib/python3.10/site-packages (from httpcore==1.*->httpx>=0.27.0->chromadb>=0.5.17->llama-index-vector-stores-chroma) (0.14.0)\n",
      "Requirement already satisfied: six>=1.9.0 in /root/anaconda3/envs/rag_poc/lib/python3.10/site-packages (from kubernetes>=28.1.0->chromadb>=0.5.17->llama-index-vector-stores-chroma) (1.16.0)\n",
      "Requirement already satisfied: python-dateutil>=2.5.3 in /root/anaconda3/envs/rag_poc/lib/python3.10/site-packages (from kubernetes>=28.1.0->chromadb>=0.5.17->llama-index-vector-stores-chroma) (2.9.0.post0)\n",
      "Requirement already satisfied: google-auth>=1.0.1 in /root/anaconda3/envs/rag_poc/lib/python3.10/site-packages (from kubernetes>=28.1.0->chromadb>=0.5.17->llama-index-vector-stores-chroma) (2.35.0)\n",
      "Requirement already satisfied: websocket-client!=0.40.0,!=0.41.*,!=0.42.*,>=0.32.0 in /root/anaconda3/envs/rag_poc/lib/python3.10/site-packages (from kubernetes>=28.1.0->chromadb>=0.5.17->llama-index-vector-stores-chroma) (1.8.0)\n",
      "Requirement already satisfied: requests-oauthlib in /root/anaconda3/envs/rag_poc/lib/python3.10/site-packages (from kubernetes>=28.1.0->chromadb>=0.5.17->llama-index-vector-stores-chroma) (2.0.0)\n",
      "Requirement already satisfied: oauthlib>=3.2.2 in /root/anaconda3/envs/rag_poc/lib/python3.10/site-packages (from kubernetes>=28.1.0->chromadb>=0.5.17->llama-index-vector-stores-chroma) (3.2.2)\n",
      "Requirement already satisfied: urllib3>=1.24.2 in /root/anaconda3/envs/rag_poc/lib/python3.10/site-packages (from kubernetes>=28.1.0->chromadb>=0.5.17->llama-index-vector-stores-chroma) (2.2.3)\n",
      "Requirement already satisfied: durationpy>=0.7 in /root/anaconda3/envs/rag_poc/lib/python3.10/site-packages (from kubernetes>=28.1.0->chromadb>=0.5.17->llama-index-vector-stores-chroma) (0.9)\n",
      "Requirement already satisfied: click in /root/anaconda3/envs/rag_poc/lib/python3.10/site-packages (from nltk>3.8.1->llama-index-core<0.12.0,>=0.11.0->llama-index-vector-stores-chroma) (8.1.7)\n",
      "Requirement already satisfied: joblib in /root/anaconda3/envs/rag_poc/lib/python3.10/site-packages (from nltk>3.8.1->llama-index-core<0.12.0,>=0.11.0->llama-index-vector-stores-chroma) (1.4.2)\n",
      "Requirement already satisfied: regex>=2021.8.3 in /root/anaconda3/envs/rag_poc/lib/python3.10/site-packages (from nltk>3.8.1->llama-index-core<0.12.0,>=0.11.0->llama-index-vector-stores-chroma) (2024.9.11)\n",
      "Requirement already satisfied: coloredlogs in /root/anaconda3/envs/rag_poc/lib/python3.10/site-packages (from onnxruntime>=1.14.1->chromadb>=0.5.17->llama-index-vector-stores-chroma) (15.0.1)\n",
      "Requirement already satisfied: flatbuffers in /root/anaconda3/envs/rag_poc/lib/python3.10/site-packages (from onnxruntime>=1.14.1->chromadb>=0.5.17->llama-index-vector-stores-chroma) (24.3.25)\n",
      "Requirement already satisfied: protobuf in /root/anaconda3/envs/rag_poc/lib/python3.10/site-packages (from onnxruntime>=1.14.1->chromadb>=0.5.17->llama-index-vector-stores-chroma) (4.25.5)\n",
      "Requirement already satisfied: sympy in /root/anaconda3/envs/rag_poc/lib/python3.10/site-packages (from onnxruntime>=1.14.1->chromadb>=0.5.17->llama-index-vector-stores-chroma) (1.13.3)\n",
      "Requirement already satisfied: importlib-metadata<=8.4.0,>=6.0 in /root/anaconda3/envs/rag_poc/lib/python3.10/site-packages (from opentelemetry-api>=1.2.0->chromadb>=0.5.17->llama-index-vector-stores-chroma) (8.4.0)\n",
      "Requirement already satisfied: googleapis-common-protos~=1.52 in /root/anaconda3/envs/rag_poc/lib/python3.10/site-packages (from opentelemetry-exporter-otlp-proto-grpc>=1.2.0->chromadb>=0.5.17->llama-index-vector-stores-chroma) (1.65.0)\n",
      "Requirement already satisfied: opentelemetry-exporter-otlp-proto-common==1.27.0 in /root/anaconda3/envs/rag_poc/lib/python3.10/site-packages (from opentelemetry-exporter-otlp-proto-grpc>=1.2.0->chromadb>=0.5.17->llama-index-vector-stores-chroma) (1.27.0)\n",
      "Requirement already satisfied: opentelemetry-proto==1.27.0 in /root/anaconda3/envs/rag_poc/lib/python3.10/site-packages (from opentelemetry-exporter-otlp-proto-grpc>=1.2.0->chromadb>=0.5.17->llama-index-vector-stores-chroma) (1.27.0)\n",
      "Requirement already satisfied: opentelemetry-instrumentation-asgi==0.48b0 in /root/anaconda3/envs/rag_poc/lib/python3.10/site-packages (from opentelemetry-instrumentation-fastapi>=0.41b0->chromadb>=0.5.17->llama-index-vector-stores-chroma) (0.48b0)\n",
      "Requirement already satisfied: opentelemetry-instrumentation==0.48b0 in /root/anaconda3/envs/rag_poc/lib/python3.10/site-packages (from opentelemetry-instrumentation-fastapi>=0.41b0->chromadb>=0.5.17->llama-index-vector-stores-chroma) (0.48b0)\n",
      "Requirement already satisfied: opentelemetry-semantic-conventions==0.48b0 in /root/anaconda3/envs/rag_poc/lib/python3.10/site-packages (from opentelemetry-instrumentation-fastapi>=0.41b0->chromadb>=0.5.17->llama-index-vector-stores-chroma) (0.48b0)\n",
      "Requirement already satisfied: opentelemetry-util-http==0.48b0 in /root/anaconda3/envs/rag_poc/lib/python3.10/site-packages (from opentelemetry-instrumentation-fastapi>=0.41b0->chromadb>=0.5.17->llama-index-vector-stores-chroma) (0.48b0)\n",
      "Requirement already satisfied: setuptools>=16.0 in /root/anaconda3/envs/rag_poc/lib/python3.10/site-packages (from opentelemetry-instrumentation==0.48b0->opentelemetry-instrumentation-fastapi>=0.41b0->chromadb>=0.5.17->llama-index-vector-stores-chroma) (75.1.0)\n",
      "Requirement already satisfied: asgiref~=3.0 in /root/anaconda3/envs/rag_poc/lib/python3.10/site-packages (from opentelemetry-instrumentation-asgi==0.48b0->opentelemetry-instrumentation-fastapi>=0.41b0->chromadb>=0.5.17->llama-index-vector-stores-chroma) (3.8.1)\n",
      "Requirement already satisfied: monotonic>=1.5 in /root/anaconda3/envs/rag_poc/lib/python3.10/site-packages (from posthog>=2.4.0->chromadb>=0.5.17->llama-index-vector-stores-chroma) (1.6)\n",
      "Requirement already satisfied: backoff>=1.10.0 in /root/anaconda3/envs/rag_poc/lib/python3.10/site-packages (from posthog>=2.4.0->chromadb>=0.5.17->llama-index-vector-stores-chroma) (2.2.1)\n",
      "Requirement already satisfied: annotated-types>=0.6.0 in /root/anaconda3/envs/rag_poc/lib/python3.10/site-packages (from pydantic>=1.9->chromadb>=0.5.17->llama-index-vector-stores-chroma) (0.7.0)\n",
      "Requirement already satisfied: pydantic-core==2.23.4 in /root/anaconda3/envs/rag_poc/lib/python3.10/site-packages (from pydantic>=1.9->chromadb>=0.5.17->llama-index-vector-stores-chroma) (2.23.4)\n",
      "Requirement already satisfied: charset-normalizer<4,>=2 in /root/anaconda3/envs/rag_poc/lib/python3.10/site-packages (from requests>=2.31.0->llama-index-core<0.12.0,>=0.11.0->llama-index-vector-stores-chroma) (3.4.0)\n",
      "Requirement already satisfied: markdown-it-py>=2.2.0 in /root/anaconda3/envs/rag_poc/lib/python3.10/site-packages (from rich>=10.11.0->chromadb>=0.5.17->llama-index-vector-stores-chroma) (3.0.0)\n",
      "Requirement already satisfied: pygments<3.0.0,>=2.13.0 in /root/anaconda3/envs/rag_poc/lib/python3.10/site-packages (from rich>=10.11.0->chromadb>=0.5.17->llama-index-vector-stores-chroma) (2.18.0)\n",
      "Requirement already satisfied: greenlet!=0.4.17 in /root/anaconda3/envs/rag_poc/lib/python3.10/site-packages (from SQLAlchemy>=1.4.49->SQLAlchemy[asyncio]>=1.4.49->llama-index-core<0.12.0,>=0.11.0->llama-index-vector-stores-chroma) (3.1.1)\n",
      "Requirement already satisfied: huggingface-hub<1.0,>=0.16.4 in /root/anaconda3/envs/rag_poc/lib/python3.10/site-packages (from tokenizers>=0.13.2->chromadb>=0.5.17->llama-index-vector-stores-chroma) (0.25.2)\n",
      "Requirement already satisfied: shellingham>=1.3.0 in /root/anaconda3/envs/rag_poc/lib/python3.10/site-packages (from typer>=0.9.0->chromadb>=0.5.17->llama-index-vector-stores-chroma) (1.5.4)\n",
      "Requirement already satisfied: mypy-extensions>=0.3.0 in /root/anaconda3/envs/rag_poc/lib/python3.10/site-packages (from typing-inspect>=0.8.0->llama-index-core<0.12.0,>=0.11.0->llama-index-vector-stores-chroma) (1.0.0)\n",
      "Requirement already satisfied: httptools>=0.5.0 in /root/anaconda3/envs/rag_poc/lib/python3.10/site-packages (from uvicorn[standard]>=0.18.3->chromadb>=0.5.17->llama-index-vector-stores-chroma) (0.6.2)\n",
      "Requirement already satisfied: python-dotenv>=0.13 in /root/anaconda3/envs/rag_poc/lib/python3.10/site-packages (from uvicorn[standard]>=0.18.3->chromadb>=0.5.17->llama-index-vector-stores-chroma) (1.0.1)\n",
      "Requirement already satisfied: uvloop!=0.15.0,!=0.15.1,>=0.14.0 in /root/anaconda3/envs/rag_poc/lib/python3.10/site-packages (from uvicorn[standard]>=0.18.3->chromadb>=0.5.17->llama-index-vector-stores-chroma) (0.21.0)\n",
      "Requirement already satisfied: watchfiles>=0.13 in /root/anaconda3/envs/rag_poc/lib/python3.10/site-packages (from uvicorn[standard]>=0.18.3->chromadb>=0.5.17->llama-index-vector-stores-chroma) (0.24.0)\n",
      "Requirement already satisfied: websockets>=10.4 in /root/anaconda3/envs/rag_poc/lib/python3.10/site-packages (from uvicorn[standard]>=0.18.3->chromadb>=0.5.17->llama-index-vector-stores-chroma) (13.1)\n",
      "Requirement already satisfied: marshmallow<4.0.0,>=3.18.0 in /root/anaconda3/envs/rag_poc/lib/python3.10/site-packages (from dataclasses-json->llama-index-core<0.12.0,>=0.11.0->llama-index-vector-stores-chroma) (3.22.0)\n",
      "Requirement already satisfied: cachetools<6.0,>=2.0.0 in /root/anaconda3/envs/rag_poc/lib/python3.10/site-packages (from google-auth>=1.0.1->kubernetes>=28.1.0->chromadb>=0.5.17->llama-index-vector-stores-chroma) (5.5.0)\n",
      "Requirement already satisfied: pyasn1-modules>=0.2.1 in /root/anaconda3/envs/rag_poc/lib/python3.10/site-packages (from google-auth>=1.0.1->kubernetes>=28.1.0->chromadb>=0.5.17->llama-index-vector-stores-chroma) (0.4.1)\n",
      "Requirement already satisfied: rsa<5,>=3.1.4 in /root/anaconda3/envs/rag_poc/lib/python3.10/site-packages (from google-auth>=1.0.1->kubernetes>=28.1.0->chromadb>=0.5.17->llama-index-vector-stores-chroma) (4.9)\n",
      "Requirement already satisfied: filelock in /root/anaconda3/envs/rag_poc/lib/python3.10/site-packages (from huggingface-hub<1.0,>=0.16.4->tokenizers>=0.13.2->chromadb>=0.5.17->llama-index-vector-stores-chroma) (3.16.1)\n",
      "Requirement already satisfied: zipp>=0.5 in /root/anaconda3/envs/rag_poc/lib/python3.10/site-packages (from importlib-metadata<=8.4.0,>=6.0->opentelemetry-api>=1.2.0->chromadb>=0.5.17->llama-index-vector-stores-chroma) (3.20.2)\n",
      "Requirement already satisfied: mdurl~=0.1 in /root/anaconda3/envs/rag_poc/lib/python3.10/site-packages (from markdown-it-py>=2.2.0->rich>=10.11.0->chromadb>=0.5.17->llama-index-vector-stores-chroma) (0.1.2)\n",
      "Requirement already satisfied: exceptiongroup>=1.0.2 in /root/anaconda3/envs/rag_poc/lib/python3.10/site-packages (from anyio->httpx>=0.27.0->chromadb>=0.5.17->llama-index-vector-stores-chroma) (1.2.2)\n",
      "Requirement already satisfied: propcache>=0.2.0 in /root/anaconda3/envs/rag_poc/lib/python3.10/site-packages (from yarl<2.0,>=1.12.0->aiohttp<4.0.0,>=3.8.6->llama-index-core<0.12.0,>=0.11.0->llama-index-vector-stores-chroma) (0.2.0)\n",
      "Requirement already satisfied: humanfriendly>=9.1 in /root/anaconda3/envs/rag_poc/lib/python3.10/site-packages (from coloredlogs->onnxruntime>=1.14.1->chromadb>=0.5.17->llama-index-vector-stores-chroma) (10.0)\n",
      "Requirement already satisfied: mpmath<1.4,>=1.1.0 in /root/anaconda3/envs/rag_poc/lib/python3.10/site-packages (from sympy->onnxruntime>=1.14.1->chromadb>=0.5.17->llama-index-vector-stores-chroma) (1.3.0)\n",
      "Requirement already satisfied: pyasn1<0.7.0,>=0.4.6 in /root/anaconda3/envs/rag_poc/lib/python3.10/site-packages (from pyasn1-modules>=0.2.1->google-auth>=1.0.1->kubernetes>=28.1.0->chromadb>=0.5.17->llama-index-vector-stores-chroma) (0.6.1)\n",
      "Downloading llama_index_vector_stores_chroma-0.3.0-py3-none-any.whl (5.2 kB)\n",
      "Downloading chromadb-0.5.18-py3-none-any.whl (615 kB)\n",
      "\u001b[2K   \u001b[90m━━━━━━━━━━━━━━━━━━━━━━━━━━━━━━━━━━━━━━━━\u001b[0m \u001b[32m615.5/615.5 kB\u001b[0m \u001b[31m17.4 MB/s\u001b[0m eta \u001b[36m0:00:00\u001b[0m\n",
      "\u001b[?25hInstalling collected packages: chromadb, llama-index-vector-stores-chroma\n",
      "  Attempting uninstall: chromadb\n",
      "    Found existing installation: chromadb 0.5.15\n",
      "    Uninstalling chromadb-0.5.15:\n",
      "      Successfully uninstalled chromadb-0.5.15\n",
      "Successfully installed chromadb-0.5.18 llama-index-vector-stores-chroma-0.3.0\n",
      "\u001b[33mWARNING: Running pip as the 'root' user can result in broken permissions and conflicting behaviour with the system package manager, possibly rendering your system unusable.It is recommended to use a virtual environment instead: https://pip.pypa.io/warnings/venv. Use the --root-user-action option if you know what you are doing and want to suppress this warning.\u001b[0m\u001b[33m\n",
      "\u001b[0m"
     ]
    }
   ],
   "source": [
    "!pip install llama-index\n",
    "!pip install chromadb\n",
    "!pip install llama-index-vector-stores-chroma"
   ]
  },
  {
   "cell_type": "markdown",
   "metadata": {},
   "source": [
    "### API Key Setup"
   ]
  },
  {
   "cell_type": "code",
   "execution_count": 25,
   "metadata": {},
   "outputs": [],
   "source": [
    "from dotenv import load_dotenv\n",
    "import os\n",
    "load_dotenv()\n",
    "\n",
    "api_key = os.getenv(\"OPENAI_API_KEY\")"
   ]
  },
  {
   "cell_type": "markdown",
   "metadata": {},
   "source": [
    "### 1. Indexing"
   ]
  },
  {
   "cell_type": "code",
   "execution_count": 26,
   "metadata": {},
   "outputs": [
    {
     "name": "stdout",
     "output_type": "stream",
     "text": [
      "11\n"
     ]
    }
   ],
   "source": [
    "from llama_index.core import VectorStoreIndex, SimpleDirectoryReader\n",
    "from llama_index.vector_stores.chroma import ChromaVectorStore\n",
    "from llama_index.core import StorageContext\n",
    "from llama_index.embeddings.openai import OpenAIEmbedding\n",
    "\n",
    "embed_model = OpenAIEmbedding()\n",
    "\n",
    "chunks = SimpleDirectoryReader('./dataset/').load_data() # 파일 path를 넣는게 아닌, 파일이 들어있는 폴더 경로\n",
    "print(len(chunks))  # chunk 갯수"
   ]
  },
  {
   "cell_type": "code",
   "execution_count": 27,
   "metadata": {},
   "outputs": [
    {
     "data": {
      "text/plain": [
       "Document(id_='0980de93-f869-43ca-9980-0a524376a5bc', embedding=None, metadata={'file_path': '/root/dev/langchain_practice/dataset/Garbage in, Garbage out.md', 'file_name': 'Garbage in, Garbage out.md', 'file_type': 'text/markdown', 'file_size': 22675, 'creation_date': '2024-10-25', 'last_modified_date': '2024-10-25'}, excluded_embed_metadata_keys=['file_name', 'file_type', 'file_size', 'creation_date', 'last_modified_date', 'last_accessed_date'], excluded_llm_metadata_keys=['file_name', 'file_type', 'file_size', 'creation_date', 'last_modified_date', 'last_accessed_date'], relationships={}, text='\\n\\n16 Garbage in, Garbage out\\n\\nWe throw out so much rubbish or garbage every day from our homes, schools, shops, and offices. The grains, pulses, biscuits, milk or oil purchased in shops, are packed in plastic bags or tins. All these wrapping materials go out as garbage. We sometimes buy things that are rarely used and often thrown into the garbage.\\n\\nWe generate so much garbage in our day-to-day activities! We often throw groundnut shells on public places, in buses or trains, after eating the nuts. We throw away the ticket when we get off a bus. A child might go on sharpening pencils just for fun. If we make mistakes or spill ink on our notebook, we tear off the sheet and throw it away. And we also throw away many domestic wastes such as broken toys, old clothes, shoes, and slippers.\\n\\nWhat if the garbage is not removed from our homes and surroundings? How do you think, this will harm us? When safai karamcharis take the garbage from the bins, where does the garbage go and what happens to it? Is it possible for all of this garbage to be changed into something that will not harm us? Can we contribute towards this in any way? We will look for answers to these questions, in this chapter.\\n', mimetype='text/plain', start_char_idx=None, end_char_idx=None, text_template='{metadata_str}\\n\\n{content}', metadata_template='{key}: {value}', metadata_seperator='\\n')"
      ]
     },
     "execution_count": 27,
     "metadata": {},
     "output_type": "execute_result"
    }
   ],
   "source": [
    "chunks[0]"
   ]
  },
  {
   "cell_type": "code",
   "execution_count": 28,
   "metadata": {},
   "outputs": [],
   "source": [
    "import chromadb\n",
    "\n",
    "# Chroma 클라이언트를 초기화하고 데이터를 저장할 디렉터리에 전달\n",
    "db = chromadb.PersistentClient(path=\"./chroma_db\")\n",
    "chroma_collection = db.get_or_create_collection(\"my_chromadb\")\n",
    "vector_store = ChromaVectorStore(chroma_collection=chroma_collection)\n",
    "storage_context = StorageContext.from_defaults(vector_store=vector_store)\n",
    "\n",
    "index = VectorStoreIndex.from_documents(\n",
    "    chunks, storage_context=storage_context, embed_model=embed_model\n",
    ")\n"
   ]
  },
  {
   "cell_type": "markdown",
   "metadata": {},
   "source": [
    "### 2. Retrieval"
   ]
  },
  {
   "cell_type": "code",
   "execution_count": 29,
   "metadata": {},
   "outputs": [
    {
     "data": {
      "text/plain": [
       "[NodeWithScore(node=TextNode(id_='644f7c65-0803-4a89-9525-c2d307466009', embedding=None, metadata={'file_path': '/root/dev/langchain_practice/dataset/Garbage in, Garbage out.md', 'file_name': 'Garbage in, Garbage out.md', 'file_type': 'text/markdown', 'file_size': 22675, 'creation_date': '2024-10-25', 'last_modified_date': '2024-10-25'}, excluded_embed_metadata_keys=['file_name', 'file_type', 'file_size', 'creation_date', 'last_modified_date', 'last_accessed_date'], excluded_llm_metadata_keys=['file_name', 'file_type', 'file_size', 'creation_date', 'last_modified_date', 'last_accessed_date'], relationships={<NodeRelationship.SOURCE: '1'>: RelatedNodeInfo(node_id='b4c0211a-3241-4a11-bfba-5400f4b39989', node_type=<ObjectType.DOCUMENT: '4'>, metadata={'file_path': '/root/dev/langchain_practice/dataset/Garbage in, Garbage out.md', 'file_name': 'Garbage in, Garbage out.md', 'file_type': 'text/markdown', 'file_size': 22675, 'creation_date': '2024-10-25', 'last_modified_date': '2024-10-25'}, hash='3cf89f7dce88dbd7872ebf8e551775b38cafbd92eb9ca397276a64538bae979f'), <NodeRelationship.NEXT: '3'>: RelatedNodeInfo(node_id='c02fe135-7a28-47b8-9c9f-2aeacc3e0bf3', node_type=<ObjectType.TEXT: '1'>, metadata={}, hash='95af0c7935cd69164402291665e3d68e5debfb01c125b1ba4858b273c19b39d0')}, text=\"16.2 Vermicomposting\\n\\nWe can be friends of plants by supplying them with compost. We will also be very good friends to ourselves by making compost.\\n\\nTalking of friends, do you know that earthworms are called farmer’s friend? Let us find out how a type of earthworm called redworm is used for composting! This method of preparing compost with the help of redworms is called vermicomposting. We can try to make manure by vermicomposting at school.\\n\\n**Activity 2**\\n\\nLet us dig a pit (about 30 cm deep) or keep a wooden box at a place, which is neither too hot nor too cold. What about a place which does not get direct sunlight? Let us now make a comfortable home for our redworms in the pit or the box.\\n\\nSpread a net or chicken mesh at the bottom of the pit or the box. You can also spread 1 or 2 cm thick layer of sand as an alternative. Now, spread some vegetable wastes including peels of fruits over this layer of sand.\\n\\nOne can also use green leaves, pieces of dried stalks of plants, husk or pieces of newspaper or cardboard to spread over the layer of sand. However, shiny or plastic coated paper should not be used for this purpose. Dried animal dung could also be used as a spread over sand or wire mesh.\\n\\nSprinkle some water to make this layer wet. Take care not to use excess of water. Do not press the layer of waste. Keep this layer loose so that it has sufficient air and moisture.\\n\\nNow, your pit is ready to welcome the redworms. Buy some redworms and put them in your pit (Fig. 16.4). Cover them loosely with a gunny bag or an old sheet of cloth or a layer of grass.\\n\\n!Fig. 16.4 Redworms  \\n*A group of redworms in the compost pit.*\\n\\nYour redworms need food. You can give them vegetable and fruit wastes, coffee and tea remains and weeds from the fields or garden (Fig. 16.5). It might be a good idea to bury this food about 2-3 cm inside the pit. Do not use wastes\\n!Food for redworms  \\n*A close-up image showing various types of food suitable for redworms, including some organic waste.*\\n\\nthat may contain salt, pickles, oil, vinegar, meat and milk preparations as food for your redworms. If you put these things in the pit, disease-causing small organisms start growing in the pit. Once in a few days, gently mix and move the top layers of your pit.\\n\\nRedworms do not have teeth. They have a structure called 'gizzard', which helps them in grinding their food. Powdered egg shells or sea shells could be mixed with the wastes. This would help redworms in grinding their food. A redworm can eat food equal to its own weight, in a day.\\n\\nRedworms do not survive in very hot or very cold surroundings. They also need moisture around them. If you take good care of your worms, in a month's time their number will double.\\n\\nObserve the contents of the pit carefully after 3-4 weeks. Do you now see loose, soil-like material in the pit? Your vermicompost is ready (Fig. 16.6).\\n\\nPut some wastes as food in one corner of the pit. Most of the worms will shift\\n\\n!Vermicomposting  \\n*A hand using tools to inspect vermicompost, indicating that the compost is ready for use as soil-like material is seen.*\\n\\ntowards this part of the pit, vacating the other part. Remove the compost from the vacated part and dry it in the sun for a few hours. Your vermicompost is ready for use!\\n\\nThe part left in the pit has most of the worms in it. You can use these for preparing more compost or share them with another user.\\n\\nUse this excellent vermicompost in your pots, gardens or fields. Is this not like getting the 'best out of waste'? Those of you who have agricultural fields can try vermicomposting in large pits. You can save a lot of money that is spent on buying expensive chemical fertilizers and manure from the market.\\n\\n**16.3 Think and Throw**\\nHow much of garbage do you think, is thrown out by each house everyday? You can make an estimate by using a bucket as a measure. Use a 5-10 litre bucket to collect the garbage from your home for\\n!Image: Neighbourhood garbage dump  \\n*A small open area filled with garbage in a neighborhood dump.\", mimetype='text/plain', start_char_idx=2, end_char_idx=4040, text_template='{metadata_str}\\n\\n{content}', metadata_template='{key}: {value}', metadata_seperator='\\n'), score=0.7049573943947024)]"
      ]
     },
     "execution_count": 29,
     "metadata": {},
     "output_type": "execute_result"
    }
   ],
   "source": [
    "# load from disk\n",
    "db2 = chromadb.PersistentClient(path=\"./chroma_db\")\n",
    "chroma_collection = db2.get_or_create_collection(\"my_chromadb\")\n",
    "vector_store = ChromaVectorStore(chroma_collection=chroma_collection)\n",
    "index = VectorStoreIndex.from_vector_store(\n",
    "    vector_store,\n",
    "    embed_model=embed_model,\n",
    ")\n",
    "\n",
    "retriever = index.as_retriever()\n",
    "retriever.retrieve(\"In what environments do earthworms thrive?\")"
   ]
  },
  {
   "cell_type": "markdown",
   "metadata": {},
   "source": [
    "### 3. Generation"
   ]
  },
  {
   "cell_type": "code",
   "execution_count": 30,
   "metadata": {},
   "outputs": [
    {
     "name": "stdout",
     "output_type": "stream",
     "text": [
      "Earthworms thrive in environments that are neither too hot nor too cold, with sufficient moisture and air. They do not survive well in very hot or very cold surroundings.\n"
     ]
    }
   ],
   "source": [
    "from llama_index.llms.openai import OpenAI\n",
    "\n",
    "llm = OpenAI(model=\"gpt-3.5-turbo\", temperature=0.1)\n",
    "\n",
    "# Query Data\n",
    "query_engine = index.as_query_engine(llm=llm)\n",
    "response = query_engine.query(\"In what environments do earthworms thrive?\")\n",
    "print(response)"
   ]
  },
  {
   "cell_type": "markdown",
   "metadata": {},
   "source": [
    "### 3. Generation - RAG를 사용하지 않고 llm만 이용하여 답변 생성한 코드"
   ]
  },
  {
   "cell_type": "code",
   "execution_count": 31,
   "metadata": {},
   "outputs": [
    {
     "name": "stdout",
     "output_type": "stream",
     "text": [
      "Earthworms thrive in moist, well-drained soil that is rich in organic matter. They are commonly found in gardens, forests, grasslands, and agricultural fields. Earthworms prefer soil with a neutral pH and moderate temperatures. They are sensitive to extreme heat, cold, and dry conditions, so they are most active in spring and fall when the soil is moist and temperatures are moderate.\n"
     ]
    }
   ],
   "source": [
    "from llama_index.llms.openai import OpenAI\n",
    "\n",
    "# LLM 초기화\n",
    "llm = OpenAI(model=\"gpt-3.5-turbo\", temperature=0.1)\n",
    "\n",
    "# 직접 질문하기\n",
    "response = llm.complete(prompt=\"In what environments do earthworms thrive?\")\n",
    "print(response.text)"
   ]
  },
  {
   "cell_type": "markdown",
   "metadata": {},
   "source": [
    "### 전체 코드"
   ]
  },
  {
   "cell_type": "code",
   "execution_count": null,
   "metadata": {},
   "outputs": [
    {
     "name": "stdout",
     "output_type": "stream",
     "text": [
      "Earthworms thrive in environments that are neither too hot nor too cold, with sufficient air and moisture. They do not survive well in very hot or very cold surroundings.\n"
     ]
    }
   ],
   "source": [
    "from llama_index.llms.openai import OpenAI # llama_index의 OpenAI 래퍼\n",
    "\n",
    "# 디스크에서 Chromadb 불러오기\n",
    "db2 = chromadb.PersistentClient(path=\"./chroma_db\")\n",
    "chroma_collection = db2.get_or_create_collection(\"my_chromadb\")\n",
    "vector_store = ChromaVectorStore(chroma_collection=chroma_collection)\n",
    "index = VectorStoreIndex.from_vector_store(\n",
    "    vector_store,\n",
    "    embed_model=embed_model,\n",
    ")\n",
    "\n",
    "llm = OpenAI(model=\"gpt-3.5-turbo\", temperature=0.1)\n",
    "\n",
    "question = \"In what environments do earthworms thrive?\"\n",
    "\n",
    "# as_query_engine을 이용하여 답변 생성\n",
    "query_engine = index.as_query_engine(llm=llm)\n",
    "response = query_engine.query(question)\n",
    "print(response)"
   ]
  },
  {
   "cell_type": "markdown",
   "metadata": {},
   "source": [
    "### query engine을 사용하지 않고 Open API 직접 호출"
   ]
  },
  {
   "cell_type": "code",
   "execution_count": 33,
   "metadata": {},
   "outputs": [
    {
     "name": "stdout",
     "output_type": "stream",
     "text": [
      "Earthworms thrive in environments that are neither too hot nor too cold, with sufficient air and moisture. They prefer places that do not receive direct sunlight. Earthworms are used for vermicomposting, a method of preparing compost with the help of redworms.\n"
     ]
    }
   ],
   "source": [
    "from llama_index.core.prompts.base import PromptTemplate\n",
    "from openai import OpenAI  # OpenAI API를 직접 호출\n",
    "\n",
    "question = \"In what environments do earthworms thrive?\"\n",
    "\n",
    "# top_k = 3개의 관련성 높은 chunk만 가져오기\n",
    "vector_retriever = index.as_retriever(similarity_top_k=3)\n",
    "retrieved_contents = vector_retriever.retrieve(question) # question에 가장 가까운 contents 검색\n",
    "\n",
    "retrieved_text = \"\\n\\n\".join([doc.text for doc in retrieved_contents]) # content에서 text 요소만 가져와서 이어 붙이기\n",
    "\n",
    "template = PromptTemplate(\"\"\"\n",
    "You are an assistant for question-answering tasks. Use the following pieces of retrieved context to answer the question. \n",
    "If you don't know the answer, just say that you don't know. Use three sentences maximum and keep the answer concise.\n",
    "\n",
    "Question: {question} \n",
    "\n",
    "Context: {context} \n",
    "\n",
    "Answer:\n",
    "\"\"\")\n",
    "\n",
    "final_prompt = template.format(context=retrieved_text, question=question)\n",
    "\n",
    "# OpenAI client 초기화\n",
    "client = OpenAI(api_key=api_key)\n",
    "\n",
    "response = client.chat.completions.create(\n",
    "    model=\"gpt-3.5-turbo\",\n",
    "    messages=[\n",
    "        {\"role\": \"user\", \"content\": final_prompt}\n",
    "    ],\n",
    "    temperature=0.1\n",
    ")\n",
    "\n",
    "answer = str(response.choices[0].message.content)\n",
    "print(answer)"
   ]
  },
  {
   "cell_type": "code",
   "execution_count": null,
   "metadata": {},
   "outputs": [],
   "source": []
  }
 ],
 "metadata": {
  "kernelspec": {
   "display_name": "rag_poc",
   "language": "python",
   "name": "python3"
  },
  "language_info": {
   "codemirror_mode": {
    "name": "ipython",
    "version": 3
   },
   "file_extension": ".py",
   "mimetype": "text/x-python",
   "name": "python",
   "nbconvert_exporter": "python",
   "pygments_lexer": "ipython3",
   "version": "3.10.15"
  }
 },
 "nbformat": 4,
 "nbformat_minor": 2
}
