{
 "cells": [
  {
   "cell_type": "markdown",
   "metadata": {},
   "source": [
    "### Installation"
   ]
  },
  {
   "cell_type": "code",
   "execution_count": null,
   "metadata": {},
   "outputs": [],
   "source": [
    "!pip install chromadb\n",
    "!pip install -U langsmith\n",
    "!pip install -U langchain"
   ]
  },
  {
   "cell_type": "markdown",
   "metadata": {},
   "source": [
    "### API Key Setup"
   ]
  },
  {
   "cell_type": "code",
   "execution_count": 1,
   "metadata": {},
   "outputs": [],
   "source": [
    "from dotenv import load_dotenv\n",
    "import os\n",
    "\n",
    "load_dotenv()\n",
    "api_key = os.getenv(\"OPENAI_API_KEY\") # \"sk-...\""
   ]
  },
  {
   "cell_type": "markdown",
   "metadata": {},
   "source": [
    "### 1. Indexing\n",
    "- 문서 로드\n",
    "- splitter를 이용하여 문서 청킹\n",
    "- chunk를 chromaDB에 저장"
   ]
  },
  {
   "cell_type": "code",
   "execution_count": 2,
   "metadata": {},
   "outputs": [
    {
     "name": "stdout",
     "output_type": "stream",
     "text": [
      "# 16 Garbage in, Garbage out\n",
      "\n",
      "We throw out so much rubbish or garbage every day from our homes, schools, shops, and offices. The grains, pulses, biscuits, milk or oil purchased in shops, are packed in plastic bags or tins. All these wrapping materials go out as garbage. We sometimes buy things that are rarely used and often thrown into the garbage.\n",
      "\n",
      "We generate so much garbage in our day-to-day activities! We often throw groundnut shells on public places, in buses or trains, after eating the nut\n"
     ]
    }
   ],
   "source": [
    "# dataset/Garbage in, Garbage out.md 파일을 열어서 f라는 파일 객체를 생성\n",
    "with open(\"./dataset/Garbage in, Garbage out.md\") as f:\n",
    "    file = f.read()  # 파일의 내용을 읽어서 file 변수에 저장\n",
    "\n",
    "# 파일 확인하기\n",
    "print(file[:500])"
   ]
  },
  {
   "cell_type": "code",
   "execution_count": 3,
   "metadata": {},
   "outputs": [
    {
     "name": "stdout",
     "output_type": "stream",
     "text": [
      "17\n"
     ]
    }
   ],
   "source": [
    "from langchain_openai.embeddings import OpenAIEmbeddings\n",
    "from langchain_experimental.text_splitter import SemanticChunker\n",
    "from langchain_chroma import Chroma\n",
    "\n",
    "# splitter 정의\n",
    "text_splitter = SemanticChunker(OpenAIEmbeddings())\n",
    "\n",
    "# 문서 분할\n",
    "chunks = text_splitter.create_documents([file])\n",
    "print(len(chunks)) # 나눠진 청크 수 확인"
   ]
  },
  {
   "cell_type": "code",
   "execution_count": 4,
   "metadata": {},
   "outputs": [
    {
     "data": {
      "text/plain": [
       "Document(metadata={}, page_content='Take care not to use excess of water. Do not press the layer of waste. Keep this layer loose so that it has sufficient air and moisture. Now, your pit is ready to welcome the redworms. Buy some redworms and put them in your pit (Fig. 16.4).')"
      ]
     },
     "execution_count": 4,
     "metadata": {},
     "output_type": "execute_result"
    }
   ],
   "source": [
    "chunks[3]"
   ]
  },
  {
   "cell_type": "code",
   "execution_count": 5,
   "metadata": {},
   "outputs": [
    {
     "data": {
      "text/plain": [
       "{'ids': ['0fbfa3d9-261d-40ab-b662-f2067cde5587',\n",
       "  '646bf738-e375-4f67-9717-0b7f67215a02',\n",
       "  '5c5df815-8c23-46b7-a1d6-3b371ad9859f',\n",
       "  '4a85b1dc-4636-4c7a-aeb7-c2cfd3b39443',\n",
       "  '5b4eaff1-67a3-4f32-91cd-67311e0f1ed5',\n",
       "  '5e6811f4-13f8-4e26-acc1-ef68d3d77ecf',\n",
       "  '3dce101c-3b18-48f4-8045-34b3dfd4adae',\n",
       "  'd73b62c5-c9e1-4a26-bb52-6b616f4c9eff',\n",
       "  '43d352f0-2f0f-4595-a50a-4b1dca0a2832',\n",
       "  '4604b863-f37e-4ed8-8662-4ce13cefa32a',\n",
       "  '63d45715-e195-4055-8968-3650608e63c4',\n",
       "  '74a888a8-f2e0-430f-826f-697fa93f14cb',\n",
       "  'cc985636-7d0a-464f-96c7-d3b73871cd1c',\n",
       "  'a25ed9e7-198d-47c5-a0a1-99a51dc38896',\n",
       "  'fa2c1dfa-d7e5-40f9-bb6e-d3c258f4ec8e',\n",
       "  '451b16cf-119d-4fcc-ae00-80649d8d5d7e',\n",
       "  '4d43c3b9-9bae-4af8-bd96-1a4204f8898b'],\n",
       " 'embeddings': None,\n",
       " 'documents': ['# 16 Garbage in, Garbage out\\n\\nWe throw out so much rubbish or garbage every day from our homes, schools, shops, and offices. The grains, pulses, biscuits, milk or oil purchased in shops, are packed in plastic bags or tins. All these wrapping materials go out as garbage. We sometimes buy things that are rarely used and often thrown into the garbage. We generate so much garbage in our day-to-day activities! We often throw groundnut shells on public places, in buses or trains, after eating the nuts. We throw away the ticket when we get off a bus. A child might go on sharpening pencils just for fun. If we make mistakes or spill ink on our notebook, we tear off the sheet and throw it away. And we also throw away many domestic wastes such as broken toys, old clothes, shoes, and slippers. What if the garbage is not removed from our homes and surroundings? How do you think, this will harm us? When safai karamcharis take the garbage from the bins, where does the garbage go and what happens to it? Is it possible for all of this garbage to be changed into something that will not harm us? Can we contribute towards this in any way?',\n",
       "  'We will look for answers to these questions, in this chapter. ### A Step towards Cleanliness\\n![A Step towards Cleanliness](swachh_bharat.png)\\n*The Prime Minister of India launched the Swachh Bharat Mission (SBM). The aim of this mission is to create an open defecation-free India by 2 October 2019.*\\n\\nChildren from Paheli and Boojho’s school did a project called ‘Dealing with Garbage’. We will learn about some of the things they learnt through this project. ## 16.1 DEALING WITH GARBAGE\\n\\nSafai karamcharis collect the garbage in trucks and take it to a low-lying open area, called a landfill (Fig. 16.1). There the part of the garbage that can be reused is separated out from the one that cannot be used as such. Thus,\\n\\n![A landfill](landfill.png)\\n*Fig. 16.1 A landfill*\\nthe garbage has both useful and non-useful components. The non-useful component is separated out. It is then spread over the landfill and then covered with a layer of soil. Once the landfill is completely full, it is usually converted into a park or a playground. For the next 20 years or so, no building is constructed on it. To deal with some of the useful components of garbage, compost making areas are developed near the landfill. What is compost? Let us learn about it, from the following activity. ![Image: Putting garbage heaps in pits](path/of/image)\\n*Three individuals placing garbage into pits and covering it with soil.*\\n\\nPaheli did wonder as to what could be useful garbage? Why was it thrown away in the first place?',\n",
       "  'Is there some garbage that is not actually garbage? ### Activity 1\\nCollect the garbage from your house before it is thrown into the dustbin. Separate it into two groups, so that they have:\\n\\n- **Group 1**: Garbage from the kitchen — like fruit and vegetable peels, egg shells, waste food, tea leaves. Include newspapers, dry leaves and paper bags in this group. - **Group 2**: Pieces of cloth, polythene bags, broken glass, aluminium wrappers, nails, old shoes and broken toys. Now divide the contents of each group into two separate heaps. Label them as A, B, C, and D. Put one heap from Group 1 and one heap from Group 2 into two separate plastic bags. Tie the mouth of these two bags tightly. Put all the four heaps in separate pits and cover them with soil (Fig. 16.2). You can also use four pots to bury these garbage heaps. Remove the soil after four days and observe the changes in the garbage. A black colour and no foul smell indicates that rotting of garbage is complete. Put the heaps again in the pits and cover with the soil. Observe again after every two days and note your observations as suggested. Did the garbage. (i) rot completely and not smell? (ii) rot only partially? (iii) rot almost completely, but still smells bad? (iv) not change at all? Garbage in which heap was seen to rot and which did not? Enter options (i), (ii), (iii), or (iv) in the columns of Table 16.1 based on your observations. | Table 16.1 What has happened to the garbage heaps? |\\n|---------------------------------------------------|\\n| Garbage heap | After 4 days | After 6 days | After 2 weeks | After 4 weeks |\\n|--------------|--------------|--------------|----------------|---------------|\\n| A            |              |              |                |               |\\n| B            |              |              |                |               |\\n| C            |              |              |                |               |\\n| D            |              |              |                |               |\\n\\nobservations. If you make any other observations, do not forget to write all these down in your notebook. Do not remove and burn the garbage that did not rot. If the garbage was found to rot completely and did not smell, mix it in the soil where you sow your favourite plants. This would provide nutrients to the plants. You must have observed from this activity that some things in the garbage rot. They form manure which is used for the plants. The rotting and conversion of some materials into manure is called ‘composting’. In some cities and towns, municipalities provide separate dustbins for collecting two kinds of garbage. Usually one is coloured blue and the other green. The blue bin is for materials that can be used again — such as plastics, metals and glass. Did you notice that these are the materials that do not rot in the garbage heaps? The green bins are for collecting kitchen and other plant or animal wastes. You may have noticed that this type of wastes rot completely when buried in the soil. Do you see why it is necessary for us to separate waste into two groups as we did in Activity 1, before we throw it? Have you noticed garbage heaps of dried leaves on the roadside? Most of the time these are burnt (Fig. 16.3). Farmers too often burn the husk, dried leaves and part of crop plants in their fields after harvesting. Burning of these, produces smoke and gases that are harmful to our health. We should try to stop such practices. These wastes could be converted into useful compost. ![Burning of leaves produce harmful gases](fig_16_3.png)  \\n*Burning of leaves produce harmful gases.*\\n\\nHere are some of the observations and thoughts, noted by Paheli and Boojh, from their project “Dealing with Garbage”. _Boojho noted in his notebook: Do not burn leaves! You will not be able to tolerate the fumes!_\\n![Paheli made a note in her notebook: Why has the government not made burning of leaves a theft?](path/of/image)  \\n*A thought bubble with a question about why the government has not outlawed the burning of leaves.*\\n\\nNot theft really 😃. She must have meant “illegal”. She wanted that the government should make a law against the burning of leaves and other plant wastes anywhere in India. ### 16.2 Vermicomposting\\n\\nWe can be friends of plants by supplying them with compost. We will also be very good friends to ourselves by making compost. Talking of friends, do you know that earthworms are called farmer’s friend? Let us find out how a type of earthworm called redworm is used for composting! This method of preparing compost with the help of redworms is called vermicomposting. We can try to make manure by vermicomposting at school. **Activity 2**\\n\\nLet us dig a pit (about 30 cm deep) or keep a wooden box at a place, which is neither too hot nor too cold. What about a place which does not get direct sunlight? Let us now make a comfortable home for our redworms in the pit or the box. Spread a net or chicken mesh at the bottom of the pit or the box. You can also spread 1 or 2 cm thick layer of sand as an alternative. Now, spread some vegetable wastes including peels of fruits over this layer of sand. One can also use green leaves, pieces of dried stalks of plants, husk or pieces of newspaper or cardboard to spread over the layer of sand. However, shiny or plastic coated paper should not be used for this purpose. Dried animal dung could also be used as a spread over sand or wire mesh. Sprinkle some water to make this layer wet.',\n",
       "  'Take care not to use excess of water. Do not press the layer of waste. Keep this layer loose so that it has sufficient air and moisture. Now, your pit is ready to welcome the redworms. Buy some redworms and put them in your pit (Fig. 16.4).',\n",
       "  'Cover them loosely with a gunny bag or an old sheet of cloth or a layer of grass. ![Fig. 16.4 Redworms](path/of/image)  \\n*A group of redworms in the compost pit.*\\n\\nYour redworms need food. You can give them vegetable and fruit wastes, coffee and tea remains and weeds from the fields or garden (Fig.',\n",
       "  '16.5).',\n",
       "  'It might be a good idea to bury this food about 2-3 cm inside the pit. Do not use wastes\\n![Food for redworms](path/of/image)  \\n*A close-up image showing various types of food suitable for redworms, including some organic waste.*\\n\\nthat may contain salt, pickles, oil, vinegar, meat and milk preparations as food for your redworms. If you put these things in the pit, disease-causing small organisms start growing in the pit. Once in a few days, gently mix and move the top layers of your pit. Redworms do not have teeth. They have a structure called \\'gizzard\\', which helps them in grinding their food. Powdered egg shells or sea shells could be mixed with the wastes. This would help redworms in grinding their food. A redworm can eat food equal to its own weight, in a day. Redworms do not survive in very hot or very cold surroundings. They also need moisture around them. If you take good care of your worms, in a month\\'s time their number will double. Observe the contents of the pit carefully after 3-4 weeks. Do you now see loose, soil-like material in the pit? Your vermicompost is ready (Fig. 16.6). Put some wastes as food in one corner of the pit. Most of the worms will shift\\n\\n![Vermicomposting](path/of/image)  \\n*A hand using tools to inspect vermicompost, indicating that the compost is ready for use as soil-like material is seen.*\\n\\ntowards this part of the pit, vacating the other part. Remove the compost from the vacated part and dry it in the sun for a few hours. Your vermicompost is ready for use! The part left in the pit has most of the worms in it. You can use these for preparing more compost or share them with another user. Use this excellent vermicompost in your pots, gardens or fields. Is this not like getting the \\'best out of waste\\'? Those of you who have agricultural fields can try vermicomposting in large pits. You can save a lot of money that is spent on buying expensive chemical fertilizers and manure from the market. **16.3 Think and Throw**\\nHow much of garbage do you think, is thrown out by each house everyday? You can make an estimate by using a bucket as a measure. Use a 5-10 litre bucket to collect the garbage from your home for\\n![Image: Neighbourhood garbage dump](path/of/image)  \\n*A small open area filled with garbage in a neighborhood dump.*\\n\\na few days. In how many days does the bucket become full? You know the number of members in your family. If you find out the population of your city or town, can you now estimate the number of buckets of garbage that may be generated in a day in your city or town? We are generating mountains of garbage every day, isn’t it? Let us read a story about a village where there is less garbage and more wisdom. Nanu studies in Class VI. He is very fond of making paper planes. His mother is very annoyed when he tears off sheets from new notebooks to make aeroplanes, but Nanu does not care. Once Nanu went to his aunt\\'s village, along with his mother. He was amazed at the variety of things his cousin Shyam had made. Files from old charts, greeting cards decorated with flowers made from pencil shavings, mats from old clothes, baskets from used old polythene bags were some of the items Nanu liked. Shyam had even made a diary from invitation cards! One morning Nanu went looking for his grandmother (Nani). He saw that she was applying a thick paste on a basket. Nanu asked, \"Nani, What are you doing? What is this paste?\"\\n\\n\"This is papier-mâché, a paste made of clay and paper in which I have also mixed some rice husk\", replied Nani. \"But, why are you putting it on the basket?\", asked Nanu. \"To make it stronger\", said Nani and added \"would you like to learn this from me?\" Nanu was not very keen and ran outside to play. He was only interested in tearing up papers to make planes. In fact he also started tearing up papers from Shyam’s files! Shyam collected all the pieces of paper Nanu had used, wondering what to do about him! He just did not listen to anyone! It was Nanu’s birthday in a few days. Shyam planned to invite Nanu’s friends. Nanu took out money from his mud pot and went to the market. He bought some paper hats for his friends. He asked the shopkeeper for a polythene bag to keep the hats, who gave him a paper bag instead of polythene. Nanu also bought many other items like biscuits and toffees. He found it difficult to carry all of these things as no shopkeeper was ready to give a polythene bag. Shyam had told him to carry a cloth bag with him and he was sorry he did not listen to him. Somehow, he managed to reach home with all his purchases.',\n",
       "  'Nanu’s friends enjoyed the feast on his birthday and played many games. Now, carefully remove the layer of paste from the frame, spread it on a sheet of newspaper in the sun. Keep the corners of the newspaper sheet pressed by putting some weights so that these do not curl up. You can add food colour, pieces of dry leaves or flower petals or pieces of coloured paper in the paste before spreading it. It would help you to get a recycled paper with beautiful patterns on it.',\n",
       "  'Can we recycle everything, just as we recycle paper? ### 16.5 Plastics – Boon or a Curse? Some kind of plastics can be recycled, but, not all of them. Did you notice that polythene bags and some plastics did not rot in Activity 1? You might now easily understand why polythene bags create a big problem in garbage disposal. It may be a little difficult to imagine our life without plastics. Shall we list a few things we use that are made of plastics? Toys, shoes, bags, pens, combs, tooth brushes, buckets, bottles, and water pipes — the list is very long. Can you name a few parts of a bus, car, radio, television, refrigerator and a scooter that are made of plastics? The use of plastics in itself might not create so much of a problem. Problems arise when we use plastics excessively and are ignorant about ways of disposing their waste. This is what is happening all around us! We might even be acting irresponsibly, knowing well about its harmful effects. We often use plastic bags to store cooked food items. Sometimes these bags may not be suitable for keeping eatables. Consuming food packed in such plastic bags could be harmful to our health. Many a time shopkeepers use plastic bags that have been used earlier for some other purpose. Sometimes bags collected by rag pickers are also used after washing them. Use of such recycled plastic bags to keep food items could be harmful for our health. For storing eatables we must insist on use of plastic bags that are approved for such a use. All kind of plastics give out harmful gases, upon heating or burning. These gases may cause many health problems, including cancer, in humans. The government has also laid down guidelines for recycling of plastics. ![Paheli Suggestion](path/to/paheli_suggestion_image)  \\n*Paheli suggests that containers used for storing poisonous substances should be recycled separately and that such recycled plastics are not used to make plastic bags.*\\n\\nYou must have noticed that people often fill garbage in plastic bags and then throw it away. When stray animals look for food in these bags, they end up swallowing these. Sometimes, they die due to this. The plastic bags thrown away carelessly on roads and other places get into drains and the sewer system. result, drains get choked and the water spills on the roads. During heavy rains, it might even create a flood like situation. There is a lot of harm that too much use of plastics can do! What can we do to minimise over use of plastics and deal with garbage? 1. We make a minimum use of plastic bags. We re-use the bags whenever it is possible to do so without any adverse affects. 2. We insist shopkeepers use paper bags. We carry a cloth or a jute bag when we go out for shopping. 3. We do not use plastic bags to store eatables. 4. We do not throw plastic bags here and there, after use. 5. We never burn plastic bags and other plastic items. 6. We do not put garbage in plastic bags and throw it away. 7. We use vermicomposting at home and deal with our kitchen waste usefully. 8. We recycle paper. 9. We use both sides of the paper to write. We use a slate for rough work. We use blank sheets of paper left in our notebooks for rough work. 10. We make our family, friends and others to follow proper practices for disposing different kinds of wastes. Think about some more ways to *minimise overuse of plastics* and discuss. The most important point to know and think about is that — more garbage we generate, more difficult it will be to get rid of it. ![Key words](path/of/image)\\n*Key words: Waste, Garbage, Landfill, Compost, Vermicomposting, Recycling.*\\n\\n![Image of two kids. One kid holding a dustbin and another kid holding a paper with a drawing. A speech bubble says \"Let us refuse plastic.\"]  \\n*Illustration of two children, promoting the message to refuse plastics.*\\n\\n**Summary**\\n- Landfill is an area where the garbage collected from a city or town is dumped. The area is later converted into a park.',\n",
       "  '- Converting plant and animal waste including that from kitchen, into manure, is called composting. - **The method of making compost from kitchen garbage using redworms is called vermicomposting.**\\n- **Paper can be recycled to get useful products.**\\n- **Plastics cannot be converted into less harmful substances by the process of composting.**\\n- **We need to generate less waste and find ways of dealing with the increasing amount of garbage in our surroundings.**\\n\\n## Exercises\\n\\n1. (a) Which kind of garbage is not converted into compost by the redworms? (b) Have you seen any other organism besides redworms in your pit? If yes, try to find out their names.',\n",
       "  'Draw pictures of these.',\n",
       "  '2. Discuss :\\n\\n   (a) Is garbage disposal the responsibility only of the government? (b) Is it possible to reduce the problems relating to disposal of garbage? 3. (a) What do you do with the leftover food at home? (b) If you and your friends are given the choice of eating in a plastic plate or a banana leaf platter at a party, which one would you prefer and why? 4. (a) Collect pieces of different kinds of paper. Find out which of these can be recycled. (b) With the help of a lens look at the pieces of paper you collected for the above question. Do you see any difference in the material of recycled paper and a new sheet of paper? 5. (a) Collect different kinds of packaging material. What was the purpose for which each one was used? Discuss in groups. (b) Give an example in which packaging could have been reduced? (c) Write a story on how packaging increases the amount of garbage. 6. Do you think it is better to use compost instead of chemical fertilisers? Why?',\n",
       "  '## Activities for Dealing with Garbage\\n\\n1. Collect old and discarded objects and material like glass bottles, plastic bottles, coconut husk, wool, bed sheets, greeting cards, and any other thing. Can you make something useful out of these, instead of throwing them?',\n",
       "  'Try.',\n",
       "  '2. Prepare a detailed project report on compost making activity you did in school. # A MATTER OF CONCERN!',\n",
       "  'In autumn lots of leaves are burnt in cities like Delhi. Some of the gases produced by burning leaves are similar to the gases released by the vehicles moving on the road. Instead of burning, if we make compost from these leaves, we can reduce the use of chemical fertilizers. The green areas which should have fresh air, actually become full of harmful gases due to burning of leaves. If you find any one is burning the leaves bring it to notice of municipal authorities or write to newspapers about it. Generate social pressure against burning of leaves. Ensure that fallen leaves are not burnt but used for making compost. Write to the \\'Tree Authority\\' of your city or state to declare burning of leaves as an offence. ![Image: The Village of My Dreams](path/of/image)  \\n*An excerpt from a textbook discussing the concept of an ideal village as imagined by M.K. Gandhi.*\\n\\n## THE VILLAGE OF MY DREAMS\\n\\n\"The village of my dreams is still in my mind. After all, every man lives in the world of his dreams. My ideal village will contain intelligent human beings. They will not live in dirt and darkness as animals. Men and women will be free and able to hold their own against anyone in the world. There will be neither plague, nor cholera, nor smallpox; no one will be idle, no one will wallow in luxury. Everyone will have to contribute his quota of manual labour. \"When our villages are fully developed, there will be no dearth in them of men with a high degree of skill and artistic talent. There will be village poets, village artists, village architects, linguists and research workers. In short, there will be nothing in life worth having which will not be had in the villages. \"Today, the villages are dung-heaps. Tomorrow, they will be like tiny gardens of Eden where dwell highly intelligent folk whom no one can deceive or exploit. \"The reconstruction of the villages along these lines should begin right now.\"\\n\\nM.',\n",
       "  \"K. Gandhi\\n\\n## MASS ILLITERACY\\n\\nMass illiteracy is India’s sin and shame and must be liquidated. Of course, the literacy campaign must not begin and end with a knowledge of the alphabet. It must go hand in hand with the spread of useful knowledge. The dry knowledge of the three R's is not even now, it can never be, a permanent part of the villagers’ life. They must have knowledge given to them which they must use daily. It must not be thrust upon them. They should have the appetite for it. What they have today is something they neither want nor appreciate. Give the villagers village Arithmetic, village Geography, village History, and the literary knowledge that they must use daily, i.e., reading and writing letters, etc. They will treasure such knowledge and pass on to the other stage. They have no use for books, which give them nothing of daily use. _Harijan: 22 June 1940_\"],\n",
       " 'uris': None,\n",
       " 'data': None,\n",
       " 'metadatas': [None,\n",
       "  None,\n",
       "  None,\n",
       "  None,\n",
       "  None,\n",
       "  None,\n",
       "  None,\n",
       "  None,\n",
       "  None,\n",
       "  None,\n",
       "  None,\n",
       "  None,\n",
       "  None,\n",
       "  None,\n",
       "  None,\n",
       "  None,\n",
       "  None],\n",
       " 'included': [<IncludeEnum.documents: 'documents'>,\n",
       "  <IncludeEnum.metadatas: 'metadatas'>]}"
      ]
     },
     "execution_count": 5,
     "metadata": {},
     "output_type": "execute_result"
    }
   ],
   "source": [
    "DB_PATH = \"./chromaDB\"\n",
    "\n",
    "# 청크를 디스크에 저장. 저장시 persist_directory에 저장할 경로 지정\n",
    "# VectorDB에 저장할 때 임베딩 모델도 지정 (이 경우는 OpenAIEmbeddings)\n",
    "db = Chroma.from_documents(\n",
    "    chunks, OpenAIEmbeddings(), persist_directory=DB_PATH, collection_name=\"my_db\"\n",
    ")\n",
    "\n",
    "db.get() # 저장된 데이터 확인"
   ]
  },
  {
   "cell_type": "markdown",
   "metadata": {},
   "source": [
    "### 2. Retrieval\n",
    "- 어떤 content가 검색되었는지 확인해보기"
   ]
  },
  {
   "cell_type": "code",
   "execution_count": 6,
   "metadata": {},
   "outputs": [
    {
     "data": {
      "text/plain": [
       "[Document(metadata={}, page_content='Take care not to use excess of water. Do not press the layer of waste. Keep this layer loose so that it has sufficient air and moisture. Now, your pit is ready to welcome the redworms. Buy some redworms and put them in your pit (Fig. 16.4).'),\n",
       " Document(metadata={}, page_content='It might be a good idea to bury this food about 2-3 cm inside the pit. Do not use wastes\\n![Food for redworms](path/of/image)  \\n*A close-up image showing various types of food suitable for redworms, including some organic waste.*\\n\\nthat may contain salt, pickles, oil, vinegar, meat and milk preparations as food for your redworms. If you put these things in the pit, disease-causing small organisms start growing in the pit. Once in a few days, gently mix and move the top layers of your pit. Redworms do not have teeth. They have a structure called \\'gizzard\\', which helps them in grinding their food. Powdered egg shells or sea shells could be mixed with the wastes. This would help redworms in grinding their food. A redworm can eat food equal to its own weight, in a day. Redworms do not survive in very hot or very cold surroundings. They also need moisture around them. If you take good care of your worms, in a month\\'s time their number will double. Observe the contents of the pit carefully after 3-4 weeks. Do you now see loose, soil-like material in the pit? Your vermicompost is ready (Fig. 16.6). Put some wastes as food in one corner of the pit. Most of the worms will shift\\n\\n![Vermicomposting](path/of/image)  \\n*A hand using tools to inspect vermicompost, indicating that the compost is ready for use as soil-like material is seen.*\\n\\ntowards this part of the pit, vacating the other part. Remove the compost from the vacated part and dry it in the sun for a few hours. Your vermicompost is ready for use! The part left in the pit has most of the worms in it. You can use these for preparing more compost or share them with another user. Use this excellent vermicompost in your pots, gardens or fields. Is this not like getting the \\'best out of waste\\'? Those of you who have agricultural fields can try vermicomposting in large pits. You can save a lot of money that is spent on buying expensive chemical fertilizers and manure from the market. **16.3 Think and Throw**\\nHow much of garbage do you think, is thrown out by each house everyday? You can make an estimate by using a bucket as a measure. Use a 5-10 litre bucket to collect the garbage from your home for\\n![Image: Neighbourhood garbage dump](path/of/image)  \\n*A small open area filled with garbage in a neighborhood dump.*\\n\\na few days. In how many days does the bucket become full? You know the number of members in your family. If you find out the population of your city or town, can you now estimate the number of buckets of garbage that may be generated in a day in your city or town? We are generating mountains of garbage every day, isn’t it? Let us read a story about a village where there is less garbage and more wisdom. Nanu studies in Class VI. He is very fond of making paper planes. His mother is very annoyed when he tears off sheets from new notebooks to make aeroplanes, but Nanu does not care. Once Nanu went to his aunt\\'s village, along with his mother. He was amazed at the variety of things his cousin Shyam had made. Files from old charts, greeting cards decorated with flowers made from pencil shavings, mats from old clothes, baskets from used old polythene bags were some of the items Nanu liked. Shyam had even made a diary from invitation cards! One morning Nanu went looking for his grandmother (Nani). He saw that she was applying a thick paste on a basket. Nanu asked, \"Nani, What are you doing? What is this paste?\"\\n\\n\"This is papier-mâché, a paste made of clay and paper in which I have also mixed some rice husk\", replied Nani. \"But, why are you putting it on the basket?\", asked Nanu. \"To make it stronger\", said Nani and added \"would you like to learn this from me?\" Nanu was not very keen and ran outside to play. He was only interested in tearing up papers to make planes. In fact he also started tearing up papers from Shyam’s files! Shyam collected all the pieces of paper Nanu had used, wondering what to do about him! He just did not listen to anyone! It was Nanu’s birthday in a few days. Shyam planned to invite Nanu’s friends. Nanu took out money from his mud pot and went to the market. He bought some paper hats for his friends. He asked the shopkeeper for a polythene bag to keep the hats, who gave him a paper bag instead of polythene. Nanu also bought many other items like biscuits and toffees. He found it difficult to carry all of these things as no shopkeeper was ready to give a polythene bag. Shyam had told him to carry a cloth bag with him and he was sorry he did not listen to him. Somehow, he managed to reach home with all his purchases.'),\n",
       " Document(metadata={}, page_content='Cover them loosely with a gunny bag or an old sheet of cloth or a layer of grass. ![Fig. 16.4 Redworms](path/of/image)  \\n*A group of redworms in the compost pit.*\\n\\nYour redworms need food. You can give them vegetable and fruit wastes, coffee and tea remains and weeds from the fields or garden (Fig.'),\n",
       " Document(metadata={}, page_content='- Converting plant and animal waste including that from kitchen, into manure, is called composting. - **The method of making compost from kitchen garbage using redworms is called vermicomposting.**\\n- **Paper can be recycled to get useful products.**\\n- **Plastics cannot be converted into less harmful substances by the process of composting.**\\n- **We need to generate less waste and find ways of dealing with the increasing amount of garbage in our surroundings.**\\n\\n## Exercises\\n\\n1. (a) Which kind of garbage is not converted into compost by the redworms? (b) Have you seen any other organism besides redworms in your pit? If yes, try to find out their names.')]"
      ]
     },
     "execution_count": 6,
     "metadata": {},
     "output_type": "execute_result"
    }
   ],
   "source": [
    "question = \"In what environments do earthworms thrive?\"\n",
    "\n",
    "retriever = db.as_retriever() # retrieval 진행\n",
    "retriever.invoke(question) # retriever 검색기에 직접 invoke를 넣어주면 어떤 content가 검색되었는지 볼 수 있음"
   ]
  },
  {
   "cell_type": "markdown",
   "metadata": {},
   "source": [
    "### 3. Generation\n",
    "- langchain의 invoke를 이용해 간단한 쿼리에 대해 답변 생성"
   ]
  },
  {
   "cell_type": "code",
   "execution_count": 7,
   "metadata": {},
   "outputs": [
    {
     "name": "stdout",
     "output_type": "stream",
     "text": [
      "content='Earthworms thrive in moist, well-drained soil that is rich in organic matter. They prefer soil with a neutral pH level and do well in environments with plenty of decaying plant material. Earthworms are also sensitive to temperature and do best in moderate climates where the soil is not too hot or too cold. They can be found in a variety of habitats, including gardens, forests, grasslands, and agricultural fields.' additional_kwargs={'refusal': None} response_metadata={'token_usage': {'completion_tokens': 86, 'prompt_tokens': 16, 'total_tokens': 102, 'completion_tokens_details': {'audio_tokens': 0, 'reasoning_tokens': 0, 'accepted_prediction_tokens': 0, 'rejected_prediction_tokens': 0}, 'prompt_tokens_details': {'audio_tokens': 0, 'cached_tokens': 0}}, 'model_name': 'gpt-3.5-turbo-0125', 'system_fingerprint': None, 'finish_reason': 'stop', 'logprobs': None} id='run-b54ea344-ab6c-471b-b613-98b30c936d4b-0' usage_metadata={'input_tokens': 16, 'output_tokens': 86, 'total_tokens': 102, 'input_token_details': {'audio': 0, 'cache_read': 0}, 'output_token_details': {'audio': 0, 'reasoning': 0}}\n"
     ]
    }
   ],
   "source": [
    "from langchain_openai import ChatOpenAI\n",
    "\n",
    "question = \"In what environments do earthworms thrive?\"\n",
    "\n",
    "# RAG를 사용하지 않고 일단 기본 llm에 쿼리만 줬을때 답변 얻는 것 확인하기\n",
    "llm = ChatOpenAI(temperature=0.1, max_tokens=2048, model=\"gpt-3.5-turbo\")\n",
    "\n",
    "print(llm.invoke(question))"
   ]
  },
  {
   "cell_type": "markdown",
   "metadata": {},
   "source": [
    "### Chain으로 구성해서 invoke해보기\n",
    "- chain 구성\n",
    "    - retriever로 부터 검색된 청크 내용만 가져와 이어 붙여서 context에 전달\n",
    "    - input으로 들어오는 쿼리를 question에 전달\n",
    "    - prompt로 question과 context가 변수에 들어와 전체 prompt를 완성\n",
    "    - llm에서 답변 생성\n",
    "    - StrOutputParser를 통해 content만 가져오기\n",
    "- invoke를 호출하여 chain 작업 시작"
   ]
  },
  {
   "cell_type": "code",
   "execution_count": 8,
   "metadata": {},
   "outputs": [
    {
     "data": {
      "text/plain": [
       "'(a) Garbage that may contain salt, pickles, oil, vinegar, meat, and milk preparations is not converted into compost by redworms. (b) If there are other organisms besides redworms in the pit, their names should be identified through observation and research.'"
      ]
     },
     "execution_count": 8,
     "metadata": {},
     "output_type": "execute_result"
    }
   ],
   "source": [
    "from langchain_openai.embeddings import OpenAIEmbeddings\n",
    "from langchain_core.runnables import RunnablePassthrough\n",
    "from langchain_core.output_parsers import StrOutputParser\n",
    "from langchain_core.prompts import ChatPromptTemplate\n",
    "from langchain_chroma import Chroma\n",
    "\n",
    "DB_PATH = \"./chromaDB\"\n",
    "\n",
    "# 디스크에서 문서를 로드\n",
    "persist_db = Chroma(\n",
    "    persist_directory=DB_PATH,\n",
    "    embedding_function=OpenAIEmbeddings(),\n",
    "    collection_name=\"my_db\",\n",
    ")\n",
    "\n",
    "retriever = persist_db.as_retriever()\n",
    "\n",
    "def format_docs(docs):\n",
    "    return \"\\n\\n\".join(doc.page_content for doc in docs)\n",
    "\n",
    "template = \"\"\"\n",
    "You are an assistant for question-answering tasks. Use the following pieces of retrieved context to answer the question. \n",
    "If you don't know the answer, just say that you don't know. Use three sentences maximum and keep the answer concise.\n",
    "\n",
    "Question: {question} \n",
    "\n",
    "Context: {context} \n",
    "\n",
    "Answer:\n",
    "\"\"\"\n",
    "\n",
    "prompt = ChatPromptTemplate.from_template(template)\n",
    "\n",
    "rag_chain = (\n",
    "    {\"context\": retriever | format_docs, \"question\": RunnablePassthrough()}\n",
    "    | prompt\n",
    "    | llm\n",
    "    | StrOutputParser()\n",
    ")\n",
    "\n",
    "question = \"In what environments do earthworms thrive?\"\n",
    "rag_chain.invoke(question)"
   ]
  }
 ],
 "metadata": {
  "kernelspec": {
   "display_name": "rag_poc",
   "language": "python",
   "name": "python3"
  },
  "language_info": {
   "codemirror_mode": {
    "name": "ipython",
    "version": 3
   },
   "file_extension": ".py",
   "mimetype": "text/x-python",
   "name": "python",
   "nbconvert_exporter": "python",
   "pygments_lexer": "ipython3",
   "version": "3.10.15"
  }
 },
 "nbformat": 4,
 "nbformat_minor": 2
}
